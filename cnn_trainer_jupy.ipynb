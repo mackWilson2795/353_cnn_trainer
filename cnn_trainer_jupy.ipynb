{
 "cells": [
  {
   "cell_type": "code",
   "execution_count": 2,
   "metadata": {},
   "outputs": [
    {
     "name": "stderr",
     "output_type": "stream",
     "text": [
      "2022-11-22 21:06:20.229331: I tensorflow/core/platform/cpu_feature_guard.cc:193] This TensorFlow binary is optimized with oneAPI Deep Neural Network Library (oneDNN) to use the following CPU instructions in performance-critical operations:  AVX2 FMA\n",
      "To enable them in other operations, rebuild TensorFlow with the appropriate compiler flags.\n",
      "2022-11-22 21:06:23.512786: W tensorflow/compiler/xla/stream_executor/platform/default/dso_loader.cc:64] Could not load dynamic library 'libnvinfer.so.7'; dlerror: libnvinfer.so.7: cannot open shared object file: No such file or directory; LD_LIBRARY_PATH: /home/fizzer/miniconda3/envs/tf/lib/python3.9/site-packages/cv2/../../../../lib:/usr/lib/x86_64-linux-gnu::/opt/ros/noetic/lib:/home/fizzer/miniconda3/envs/tf/lib/:/home/fizzer/miniconda3/envs/tf/lib/:/home/fizzer/miniconda3/envs/tf/lib/:/home/fizzer/miniconda3/envs/tf/lib/\n",
      "2022-11-22 21:06:23.514551: W tensorflow/compiler/xla/stream_executor/platform/default/dso_loader.cc:64] Could not load dynamic library 'libnvinfer_plugin.so.7'; dlerror: libnvinfer_plugin.so.7: cannot open shared object file: No such file or directory; LD_LIBRARY_PATH: /home/fizzer/miniconda3/envs/tf/lib/python3.9/site-packages/cv2/../../../../lib:/usr/lib/x86_64-linux-gnu::/opt/ros/noetic/lib:/home/fizzer/miniconda3/envs/tf/lib/:/home/fizzer/miniconda3/envs/tf/lib/:/home/fizzer/miniconda3/envs/tf/lib/:/home/fizzer/miniconda3/envs/tf/lib/\n",
      "2022-11-22 21:06:23.514560: W tensorflow/compiler/tf2tensorrt/utils/py_utils.cc:38] TF-TRT Warning: Cannot dlopen some TensorRT libraries. If you would like to use Nvidia GPU with TensorRT, please make sure the missing libraries mentioned above are installed properly.\n"
     ]
    }
   ],
   "source": [
    "import math\n",
    "import sys\n",
    "import numpy as np\n",
    "import re\n",
    "import string\n",
    "import random\n",
    "from random import randint\n",
    "import cv2\n",
    "import os\n",
    "\n",
    "from collections import Counter\n",
    "from matplotlib import pyplot as plt\n",
    "from PIL import Image, ImageFont, ImageDraw\n",
    "from tensorflow.keras import layers\n",
    "from tensorflow.keras import models\n",
    "from tensorflow.keras import optimizers\n",
    "\n",
    "from tensorflow.keras.utils import plot_model\n",
    "from tensorflow.keras import backend\n",
    "\n",
    "import seaborn as sn\n",
    "import pandas as pd\n",
    "import matplotlib.pyplot as plt"
   ]
  },
  {
   "cell_type": "code",
   "execution_count": 3,
   "metadata": {},
   "outputs": [],
   "source": [
    "# CONSTANTS\n",
    "IM_PATH = \"/home/fizzer/CNN_images\"\n",
    "NUM_LABELS = 4\n",
    "CONFIDENCE_THRESHOLD = 0.01\n",
    "VALIDATION_SPLIT = 0.2\n",
    "LEARNING_RATE = 1e-4"
   ]
  },
  {
   "cell_type": "code",
   "execution_count": 4,
   "metadata": {},
   "outputs": [],
   "source": [
    "# Setup ref and read files\n",
    "one_hot_ref = {\n",
    "    'L': np.array([1.,0.,0.,0.]),\n",
    "    'F': np.array([0.,1.,0.,0.]),\n",
    "    'R': np.array([0.,0.,1.,0.]),\n",
    "    'S': np.array([0.,0.,0.,1.])\n",
    "}\n",
    "# Read the images from the files \n",
    "dir_contents = np.array(os.listdir(IM_PATH))\n",
    "np.random.shuffle(dir_contents)\n",
    "im_set = []\n",
    "for im_path in dir_contents:\n",
    "    spl = im_path.split('_')\n",
    "    x_vel = float(spl[0])\n",
    "    z_vel = float(spl[1])\n",
    "    #TODO: confirm labels\n",
    "    if (x_vel > 0):\n",
    "        label = one_hot_ref['F']\n",
    "    elif (z_vel > 0):\n",
    "        label = one_hot_ref['L']\n",
    "    elif (z_vel < 0):\n",
    "        label = one_hot_ref['R']\n",
    "    else:\n",
    "        label = one_hot_ref['S']\n",
    "    # TODO: CHANGE THIS IF WE WANT COLOR\n",
    "    # im_set.append([label, cv2.imread(f\"{IM_PATH}/{im_path}\")])\n",
    "    im_set.append([label, cv2.cvtColor(cv2.imread(f\"{IM_PATH}/{im_path}\"), cv2.COLOR_RGB2GRAY)])\n",
    "# im_set = np.array(im_set, dtype=object)"
   ]
  },
  {
   "cell_type": "code",
   "execution_count": 5,
   "metadata": {},
   "outputs": [],
   "source": [
    "# Create x_dataset and y_dataset\n",
    "x_dataset = np.array([img[1] for img in im_set[:]])\n",
    "y_dataset = np.array([img[0] for img in im_set[:]])\n",
    "x_dataset = x_dataset/255.0\n",
    "del(im_set)\n",
    "# TODO: may need this x_dataset = x_dataset.reshape(len(x_dataset), len(x_dataset[0]), len(x_dataset[0][0]),-1)"
   ]
  },
  {
   "cell_type": "code",
   "execution_count": 5,
   "metadata": {},
   "outputs": [
    {
     "name": "stdout",
     "output_type": "stream",
     "text": [
      "(800, 720, 1280, 3)\n"
     ]
    }
   ],
   "source": [
    "print(x_dataset.shape)"
   ]
  },
  {
   "cell_type": "code",
   "execution_count": 6,
   "metadata": {},
   "outputs": [],
   "source": [
    "# TODO: The following was copy pasted - validate\n",
    "def reset_weights(model):\n",
    "    for ix, layer in enumerate(model.layers):\n",
    "        if (hasattr(model.layers[ix], 'kernel_initializer') and \n",
    "            hasattr(model.layers[ix], 'bias_initializer')):\n",
    "            weight_initializer = model.layers[ix].kernel_initializer\n",
    "            bias_initializer = model.layers[ix].bias_initializer\n",
    "\n",
    "            old_weights, old_biases = model.layers[ix].get_weights()\n",
    "\n",
    "            model.layers[ix].set_weights([\n",
    "                weight_initializer(shape=old_weights.shape),\n",
    "                bias_initializer(shape=len(old_biases))])"
   ]
  },
  {
   "cell_type": "code",
   "execution_count": 7,
   "metadata": {},
   "outputs": [
    {
     "name": "stderr",
     "output_type": "stream",
     "text": [
      "2022-11-22 18:08:47.973853: I tensorflow/stream_executor/platform/default/dso_loader.cc:44] Successfully opened dynamic library libcuda.so.1\n",
      "2022-11-22 18:08:48.005164: I tensorflow/stream_executor/cuda/cuda_gpu_executor.cc:981] successful NUMA node read from SysFS had negative value (-1), but there must be at least one NUMA node, so returning NUMA node zero\n",
      "2022-11-22 18:08:48.005460: I tensorflow/core/common_runtime/gpu/gpu_device.cc:1561] Found device 0 with properties: \n",
      "pciBusID: 0000:2b:00.0 name: NVIDIA GeForce RTX 3070 Ti computeCapability: 8.6\n",
      "coreClock: 1.845GHz coreCount: 48 deviceMemorySize: 7.77GiB deviceMemoryBandwidth: 566.30GiB/s\n",
      "2022-11-22 18:08:48.012042: I tensorflow/stream_executor/platform/default/dso_loader.cc:44] Successfully opened dynamic library libcudart.so.10.1\n",
      "2022-11-22 18:08:48.137824: I tensorflow/stream_executor/platform/default/dso_loader.cc:44] Successfully opened dynamic library libcublas.so.10\n",
      "2022-11-22 18:08:48.294645: I tensorflow/stream_executor/platform/default/dso_loader.cc:44] Successfully opened dynamic library libcufft.so.10\n",
      "2022-11-22 18:08:48.326886: I tensorflow/stream_executor/platform/default/dso_loader.cc:44] Successfully opened dynamic library libcurand.so.10\n",
      "2022-11-22 18:08:48.461015: I tensorflow/stream_executor/platform/default/dso_loader.cc:44] Successfully opened dynamic library libcusolver.so.10\n",
      "2022-11-22 18:08:48.481248: I tensorflow/stream_executor/platform/default/dso_loader.cc:44] Successfully opened dynamic library libcusparse.so.10\n",
      "2022-11-22 18:08:48.481403: W tensorflow/stream_executor/platform/default/dso_loader.cc:55] Could not load dynamic library 'libcudnn.so.7'; dlerror: libcudnn.so.7: cannot open shared object file: No such file or directory; LD_LIBRARY_PATH: /home/fizzer/.local/lib/python3.8/site-packages/cv2/../../lib64:/usr/lib/x86_64-linux-gnu::/opt/ros/noetic/lib:/home/fizzer/miniconda3/envs/tf/lib/:/home/fizzer/miniconda3/envs/tf/lib/:/home/fizzer/miniconda3/envs/tf/lib/\n",
      "2022-11-22 18:08:48.481415: W tensorflow/core/common_runtime/gpu/gpu_device.cc:1598] Cannot dlopen some GPU libraries. Please make sure the missing libraries mentioned above are installed properly if you would like to use GPU. Follow the guide at https://www.tensorflow.org/install/gpu for how to download and setup the required libraries for your platform.\n",
      "Skipping registering GPU devices...\n",
      "2022-11-22 18:08:48.482241: I tensorflow/core/platform/cpu_feature_guard.cc:143] Your CPU supports instructions that this TensorFlow binary was not compiled to use: AVX2 FMA\n",
      "2022-11-22 18:08:48.527210: I tensorflow/core/platform/profile_utils/cpu_utils.cc:102] CPU Frequency: 3799940000 Hz\n",
      "2022-11-22 18:08:48.527838: I tensorflow/compiler/xla/service/service.cc:168] XLA service 0x7f0d84000b60 initialized for platform Host (this does not guarantee that XLA will be used). Devices:\n",
      "2022-11-22 18:08:48.527858: I tensorflow/compiler/xla/service/service.cc:176]   StreamExecutor device (0): Host, Default Version\n",
      "2022-11-22 18:08:48.533802: I tensorflow/core/common_runtime/gpu/gpu_device.cc:1102] Device interconnect StreamExecutor with strength 1 edge matrix:\n",
      "2022-11-22 18:08:48.533817: I tensorflow/core/common_runtime/gpu/gpu_device.cc:1108]      \n"
     ]
    }
   ],
   "source": [
    "# Set up CNN\n",
    "conv_model = models.Sequential()\n",
    "conv_model.add(layers.Conv2D(3, (5, 5), activation='relu',\n",
    "                        input_shape=(720, 1280, 1)))\n",
    "conv_model.add(layers.MaxPooling2D((2, 2)))\n",
    "conv_model.add(layers.Conv2D(24, (5, 5), activation='relu'))\n",
    "conv_model.add(layers.MaxPooling2D((2, 2)))\n",
    "conv_model.add(layers.Conv2D(36, (5, 5), activation='relu'))\n",
    "conv_model.add(layers.MaxPooling2D((2, 2)))\n",
    "conv_model.add(layers.Conv2D(48, (5, 5), activation='relu'))\n",
    "conv_model.add(layers.MaxPooling2D((2, 2)))\n",
    "conv_model.add(layers.Conv2D(64, (5, 5), activation='relu'))\n",
    "conv_model.add(layers.MaxPooling2D((2, 2)))\n",
    "conv_model.add(layers.Flatten())\n",
    "conv_model.add(layers.Dropout(0.5))\n",
    "conv_model.add(layers.Dense(512, activation='relu'))\n",
    "conv_model.add(layers.Dense(36, activation='relu'))\n",
    "conv_model.add(layers.Dense(10, activation='relu'))\n",
    "conv_model.add(layers.Dense(4, activation='softmax'))\n",
    "conv_model.compile(loss='mse', optimizer=optimizers.RMSprop(learning_rate=LEARNING_RATE), metrics=['acc'])\n"
   ]
  },
  {
   "cell_type": "code",
   "execution_count": 8,
   "metadata": {},
   "outputs": [],
   "source": [
    "# reset_weights(conv_model)"
   ]
  },
  {
   "cell_type": "code",
   "execution_count": 12,
   "metadata": {},
   "outputs": [
    {
     "ename": "",
     "evalue": "",
     "output_type": "error",
     "traceback": [
      "\u001b[1;31mThe Kernel crashed while executing code in the the current cell or a previous cell. Please review the code in the cell(s) to identify a possible cause of the failure. Click <a href='https://aka.ms/vscodeJupyterKernelCrash'>here</a> for more info. View Jupyter <a href='command:jupyter.viewOutput'>log</a> for further details."
     ]
    },
    {
     "ename": "",
     "evalue": "",
     "output_type": "error",
     "traceback": [
      "\u001b[1;31mCanceled future for execute_request message before replies were done"
     ]
    }
   ],
   "source": [
    "# Train CNN\n",
    "begin = 0\n",
    "block_length = len(x_dataset) // 5\n",
    "for i in range(block_length, len(x_dataset), block_length):\n",
    "    history_conv = conv_model.fit(x_dataset[begin:block_length], y_dataset[begin:block_length], \n",
    "                                validation_split=VALIDATION_SPLIT, \n",
    "                                epochs=20, \n",
    "                                batch_size=16)\n",
    "    x_dataset = x_dataset[:block_length]\n",
    "    y_dataset = y_dataset[:block_length]"
   ]
  },
  {
   "cell_type": "code",
   "execution_count": 13,
   "metadata": {},
   "outputs": [
    {
     "data": {
      "text/plain": [
       "(20, 720, 1280)"
      ]
     },
     "execution_count": 13,
     "metadata": {},
     "output_type": "execute_result"
    }
   ],
   "source": [
    "x_dataset[0:20,:,:].shape"
   ]
  },
  {
   "cell_type": "code",
   "execution_count": null,
   "metadata": {},
   "outputs": [],
   "source": []
  }
 ],
 "metadata": {
  "kernelspec": {
   "display_name": "Python 3.9.15 ('tf')",
   "language": "python",
   "name": "python3"
  },
  "language_info": {
   "codemirror_mode": {
    "name": "ipython",
    "version": 3
   },
   "file_extension": ".py",
   "mimetype": "text/x-python",
   "name": "python",
   "nbconvert_exporter": "python",
   "pygments_lexer": "ipython3",
   "version": "3.9.15"
  },
  "orig_nbformat": 4,
  "vscode": {
   "interpreter": {
    "hash": "578e924f1569627a7b9460d9a60221db2eceef51bb5e555905b8909493232376"
   }
  }
 },
 "nbformat": 4,
 "nbformat_minor": 2
}
