{
 "cells": [
  {
   "cell_type": "code",
   "execution_count": 55,
   "metadata": {},
   "outputs": [
    {
     "name": "stdout",
     "output_type": "stream",
     "text": [
      "env: XLA_FLAGS=--xla_gpu_cuda_data_dir=/usr/lib/cuda/\n"
     ]
    }
   ],
   "source": [
    "import math\n",
    "import sys\n",
    "import numpy as np\n",
    "import re\n",
    "import string\n",
    "import random\n",
    "from random import randint\n",
    "import cv2\n",
    "import os\n",
    "\n",
    "from collections import Counter\n",
    "from matplotlib import pyplot as plt\n",
    "from PIL import Image, ImageFont, ImageDraw\n",
    "from tensorflow.keras import layers\n",
    "from tensorflow.keras import models\n",
    "from tensorflow.keras import optimizers\n",
    "from tensorflow.keras import callbacks\n",
    "\n",
    "from tensorflow.keras.utils import plot_model\n",
    "from tensorflow.keras import backend\n",
    "\n",
    "import seaborn as sn\n",
    "import pandas as pd\n",
    "import matplotlib.pyplot as plti\n",
    "\n",
    "%env XLA_FLAGS=--xla_gpu_cuda_data_dir=/usr/lib/cuda/"
   ]
  },
  {
   "cell_type": "code",
   "execution_count": 56,
   "metadata": {},
   "outputs": [],
   "source": [
    "# CONSTANTS\n",
    "IM_PATH = \"/home/fizzer/labelled_plates\"\n",
    "DST_PATH = \"/home/fizzer/labelled_dsts\"\n",
    "NUM_LABELS = 26\n",
    "CONFIDENCE_THRESHOLD = 0.01\n",
    "VALIDATION_SPLIT = 0.2\n",
    "LEARNING_RATE = 1e-4\n",
    "HSV_LOWER = np.array([115,80,90])\n",
    "HSV_UPPER = np.array([130,255,205])\n",
    "DST_LOWER = np.array([0,0,0])\n",
    "DST_UPPER = np.array([0,0,90])"
   ]
  },
  {
   "cell_type": "code",
   "execution_count": 57,
   "metadata": {},
   "outputs": [],
   "source": [
    "# PLATES\n",
    "# CP_PATH = \"/home/fizzer/cnn_trainer/letter_model/cps/\"\n",
    "# SAVE_PATH = \"/home/fizzer/cnn_trainer/letter_model/save/\""
   ]
  },
  {
   "cell_type": "code",
   "execution_count": 58,
   "metadata": {},
   "outputs": [],
   "source": [
    "# DSTS\n",
    "# CP_PATH = \"/home/fizzer/cnn_trainer/dst_model/cps/\"\n",
    "# SAVE_PATH = \"/home/fizzer/cnn_trainer/dst_model/save/\""
   ]
  },
  {
   "cell_type": "code",
   "execution_count": 59,
   "metadata": {},
   "outputs": [],
   "source": [
    "# Set up one hot reference \n",
    "one_hot_ref = \"ABCDEFGHIJKLMNOPQRSTUVWXYZ0123456789\"\n",
    "def one_hot_map(c):\n",
    "    arr = np.zeros(len(one_hot_ref))\n",
    "    arr[one_hot_ref.find(c)] = 1\n",
    "    return arr"
   ]
  },
  {
   "cell_type": "code",
   "execution_count": 60,
   "metadata": {},
   "outputs": [
    {
     "name": "stderr",
     "output_type": "stream",
     "text": [
      "/home/fizzer/miniconda3/envs/tf/lib/python3.9/site-packages/numpy/lib/function_base.py:334: VisibleDeprecationWarning: Creating an ndarray from ragged nested sequences (which is a list-or-tuple of lists-or-tuples-or ndarrays with different lengths or shapes) is deprecated. If you meant to do this, you must specify 'dtype=object' when creating the ndarray.\n",
      "  m = asarray(m)\n"
     ]
    },
    {
     "data": {
      "text/plain": [
       "-1"
      ]
     },
     "execution_count": 60,
     "metadata": {},
     "output_type": "execute_result"
    }
   ],
   "source": [
    "i = cv2.imread(f\"{IM_PATH}/PLT_000013_IP61.png\")\n",
    "hsv = cv2.cvtColor(i, cv2.COLOR_BGR2HSV)\n",
    "blur = cv2.GaussianBlur(hsv, (5,5), cv2.BORDER_DEFAULT)\n",
    "# Mask -> Get contours -> Take 4 Largest contours\n",
    "i_mask = cv2.inRange(blur, HSV_LOWER, HSV_UPPER)\n",
    "contours, _ = cv2.findContours(i_mask, cv2.RETR_TREE, cv2.CHAIN_APPROX_SIMPLE)\n",
    "cnts_sorted = np.flip(sorted(contours, key=lambda x: cv2.contourArea(x))[-4:])\n",
    "# Sort contours left to right\n",
    "rects = []\n",
    "for cnt in cnts_sorted:\n",
    "    x,y,w,h = cv2.boundingRect(cnt)\n",
    "    rects.append([x,y,w,h])\n",
    "rects = np.array(rects)\n",
    "rects = sorted(rects, key=lambda x: x[0])\n",
    "# Show a slice\n",
    "x,y,w,h = rects[0]\n",
    "cv2.imshow(\"img\", i_mask[y:y+h,x:x+w])\n",
    "cv2.waitKey(1)"
   ]
  },
  {
   "cell_type": "code",
   "execution_count": 61,
   "metadata": {},
   "outputs": [],
   "source": [
    "KERNEL = np.ones((3,3), np.uint8)\n",
    "def get_char(img, char, rect):\n",
    "    x,y,w,h = rect\n",
    "    im = cv2.resize(img[y:y+h,x:x+w], (75,100))\n",
    "    im = cv2.erode(cv2.dilate(im, KERNEL, iterations=1), KERNEL, iterations=1)\n",
    "    return (one_hot_map(char), im)"
   ]
  },
  {
   "cell_type": "code",
   "execution_count": 62,
   "metadata": {},
   "outputs": [],
   "source": [
    "# THIS IS FOR READING THE PLATE NUMBERS/LETTERS\n",
    "def crop_plate(plate_path):\n",
    "    img = cv2.imread(f\"{IM_PATH}/{plate_path}\")\n",
    "    hsv = cv2.cvtColor(img, cv2.COLOR_BGR2HSV)\n",
    "    blur = cv2.GaussianBlur(hsv, (3,3), cv2.BORDER_DEFAULT)\n",
    "    mask = cv2.inRange(blur, HSV_LOWER, HSV_UPPER)\n",
    "    # Mask -> Get contours -> Take 4 Largest contours\n",
    "    contours, _ = cv2.findContours(mask, cv2.RETR_TREE, cv2.CHAIN_APPROX_SIMPLE)\n",
    "    cnts_sorted = np.flip(sorted(contours, key=lambda x: cv2.contourArea(x))[-4:])\n",
    "    rects = []\n",
    "    for cnt in cnts_sorted:\n",
    "        x,y,w,h = cv2.boundingRect(cnt)\n",
    "        rects.append([x,y,w,h])\n",
    "    rects = np.array(rects)\n",
    "    rects = sorted(rects, key=lambda x: x[0])\n",
    "    # Perform image processing\n",
    "    return get_char(mask, plate_path[-8], rects[0]), get_char(mask, plate_path[-7], rects[1]), get_char(mask, plate_path[-6], rects[2]), get_char(mask, plate_path[-5], rects[3])"
   ]
  },
  {
   "cell_type": "code",
   "execution_count": 63,
   "metadata": {},
   "outputs": [],
   "source": [
    "# THIS IS FOR READING THE \"CAR NUMBER\"\n",
    "def crop_dst(plate_path):\n",
    "    img = cv2.imread(f\"{DST_PATH}/{plate_path}\")\n",
    "    hsv = cv2.cvtColor(img, cv2.COLOR_BGR2HSV)\n",
    "    blur = cv2.GaussianBlur(hsv, (3,3), cv2.BORDER_DEFAULT)\n",
    "    mask = cv2.inRange(hsv, DST_LOWER, DST_UPPER)\n",
    "    # Mask -> Get contours -> Take 4 Largest contours\n",
    "    contours, _ = cv2.findContours(mask, cv2.RETR_TREE, cv2.CHAIN_APPROX_SIMPLE)\n",
    "    cnts_sorted = np.flip(sorted(contours, key=lambda x: cv2.contourArea(x))[-2:])\n",
    "    rects = []\n",
    "    for cnt in cnts_sorted:\n",
    "        x,y,w,h = cv2.boundingRect(cnt)\n",
    "        rects.append([x,y,w,h])\n",
    "    rects = np.array(rects)\n",
    "    rects = sorted(rects, key=lambda x: x[0])\n",
    "    return get_char(mask, plate_path[-5], rects[1])"
   ]
  },
  {
   "cell_type": "code",
   "execution_count": 64,
   "metadata": {},
   "outputs": [
    {
     "name": "stderr",
     "output_type": "stream",
     "text": [
      "/tmp/ipykernel_96515/1486754096.py:17: VisibleDeprecationWarning: Creating an ndarray from ragged nested sequences (which is a list-or-tuple of lists-or-tuples-or ndarrays with different lengths or shapes) is deprecated. If you meant to do this, you must specify 'dtype=object' when creating the ndarray.\n",
      "  dataset = np.array(imset)\n"
     ]
    }
   ],
   "source": [
    "imset = []\n",
    "\n",
    "# Read plates\n",
    "# dir_contents = np.array(os.listdir(IM_PATH))\n",
    "# for im_path in dir_contents:\n",
    "#    # Plates\n",
    "#    p1,p2,p3,p4 = crop_plate(im_path)\n",
    "#    imset.extend([p1,p2,p3,p4])\n",
    "\n",
    "# Read dsts\n",
    "dir_contents = np.array(os.listdir(DST_PATH))\n",
    "for im_path in dir_contents:\n",
    "  # DSTs\n",
    "   p1 = crop_dst(im_path)\n",
    "   imset.extend([p1])\n",
    "\n",
    "dataset = np.array(imset)\n",
    "np.random.shuffle(dataset)"
   ]
  },
  {
   "cell_type": "code",
   "execution_count": 65,
   "metadata": {},
   "outputs": [
    {
     "name": "stdout",
     "output_type": "stream",
     "text": [
      "(464, 100, 75, 1)\n"
     ]
    }
   ],
   "source": [
    "x_dataset = np.array([img[1][:] for img in imset[:]])\n",
    "y_dataset = np.array([img[0] for img in imset[:]])\n",
    "x_dataset = x_dataset/255.0\n",
    "x_dataset = x_dataset.reshape(len(x_dataset), len(x_dataset[0]), len(x_dataset[0][0]), -1)\n",
    "print(x_dataset.shape)"
   ]
  },
  {
   "cell_type": "code",
   "execution_count": 66,
   "metadata": {},
   "outputs": [],
   "source": [
    "# TODO: The following was copy pasted - validate\n",
    "def reset_weights(model):\n",
    "    for ix, layer in enumerate(model.layers):\n",
    "        if (hasattr(model.layers[ix], 'kernel_initializer') and \n",
    "            hasattr(model.layers[ix], 'bias_initializer')):\n",
    "            weight_initializer = model.layers[ix].kernel_initializer\n",
    "            bias_initializer = model.layers[ix].bias_initializer\n",
    "\n",
    "            old_weights, old_biases = model.layers[ix].get_weights()\n",
    "\n",
    "            model.layers[ix].set_weights([\n",
    "                weight_initializer(shape=old_weights.shape),\n",
    "                bias_initializer(shape=len(old_biases))])"
   ]
  },
  {
   "cell_type": "code",
   "execution_count": 67,
   "metadata": {},
   "outputs": [],
   "source": [
    "conv_model = models.Sequential()\n",
    "conv_model.add(layers.Conv2D(32, (3, 3), activation='relu',\n",
    "                             input_shape=(100, 75, 1)))\n",
    "conv_model.add(layers.MaxPooling2D((2, 2)))\n",
    "conv_model.add(layers.Conv2D(64, (3, 3), activation='relu'))\n",
    "conv_model.add(layers.MaxPooling2D((2, 2)))\n",
    "conv_model.add(layers.Conv2D(88, (3, 3), activation='relu'))\n",
    "conv_model.add(layers.MaxPooling2D((2, 2)))\n",
    "conv_model.add(layers.Conv2D(128, (3, 3), activation='relu'))\n",
    "conv_model.add(layers.MaxPooling2D((2, 2)))\n",
    "conv_model.add(layers.Flatten())\n",
    "conv_model.add(layers.Dropout(0.5))\n",
    "conv_model.add(layers.Dense(512, activation='relu'))\n",
    "conv_model.add(layers.Dense(36, activation='softmax'))\n",
    "cp_callback = callbacks.ModelCheckpoint(filepath=CP_PATH, save_weights_only=True, verbose=1)"
   ]
  },
  {
   "cell_type": "code",
   "execution_count": 68,
   "metadata": {},
   "outputs": [
    {
     "name": "stderr",
     "output_type": "stream",
     "text": [
      "WARNING:absl:`lr` is deprecated, please use `learning_rate` instead, or use the legacy optimizer, e.g.,tf.keras.optimizers.legacy.RMSprop.\n"
     ]
    }
   ],
   "source": [
    "LEARNING_RATE = 1e-4\n",
    "conv_model.compile(loss='categorical_crossentropy',\n",
    "                   optimizer=optimizers.RMSprop(lr=LEARNING_RATE),\n",
    "                   metrics=['acc'])"
   ]
  },
  {
   "cell_type": "code",
   "execution_count": 69,
   "metadata": {},
   "outputs": [
    {
     "name": "stdout",
     "output_type": "stream",
     "text": [
      "Epoch 1/2\n",
      "368/371 [============================>.] - ETA: 0s - loss: 0.5228 - acc: 0.8668\n",
      "Epoch 1: saving model to /home/fizzer/cnn_trainer/dst_model/cps/\n",
      "371/371 [==============================] - 2s 5ms/step - loss: 0.5186 - acc: 0.8679 - val_loss: 0.4123 - val_acc: 0.9892\n",
      "Epoch 2/2\n",
      "364/371 [============================>.] - ETA: 0s - loss: 2.7071e-06 - acc: 1.0000\n",
      "Epoch 2: saving model to /home/fizzer/cnn_trainer/dst_model/cps/\n",
      "371/371 [==============================] - 2s 5ms/step - loss: 2.6560e-06 - acc: 1.0000 - val_loss: 0.4667 - val_acc: 0.9892\n"
     ]
    }
   ],
   "source": [
    "history_conv = conv_model.fit(x_dataset, y_dataset, \n",
    "                              validation_split=VALIDATION_SPLIT, \n",
    "                              epochs=2,\n",
    "                              batch_size=1,\n",
    "                              callbacks=[cp_callback])"
   ]
  },
  {
   "cell_type": "code",
   "execution_count": 70,
   "metadata": {},
   "outputs": [
    {
     "name": "stderr",
     "output_type": "stream",
     "text": [
      "WARNING:absl:Found untraced functions such as _jit_compiled_convolution_op, _jit_compiled_convolution_op, _jit_compiled_convolution_op, _jit_compiled_convolution_op, _update_step_xla while saving (showing 5 of 5). These functions will not be directly callable after loading.\n"
     ]
    },
    {
     "name": "stdout",
     "output_type": "stream",
     "text": [
      "INFO:tensorflow:Assets written to: /home/fizzer/cnn_trainer/dst_model/save/assets\n"
     ]
    },
    {
     "name": "stderr",
     "output_type": "stream",
     "text": [
      "INFO:tensorflow:Assets written to: /home/fizzer/cnn_trainer/dst_model/save/assets\n"
     ]
    }
   ],
   "source": [
    "conv_model.save(SAVE_PATH)"
   ]
  },
  {
   "cell_type": "code",
   "execution_count": 71,
   "metadata": {},
   "outputs": [
    {
     "data": {
      "image/png": "[encoded data removed]",
      "text/plain": [
       "<Figure size 640x480 with 1 Axes>"
      ]
     },
     "metadata": {},
     "output_type": "display_data"
    }
   ],
   "source": [
    "plt.plot(history_conv.history['loss'])\n",
    "plt.plot(history_conv.history['val_loss'])\n",
    "plt.title('model loss')\n",
    "plt.ylabel('loss')\n",
    "plt.xlabel('epoch')\n",
    "plt.legend(['train loss', 'val loss'], loc='upper left')\n",
    "plt.show()"
   ]
  },
  {
   "cell_type": "code",
   "execution_count": 72,
   "metadata": {},
   "outputs": [
    {
     "data": {
      "image/png": "[encoded data removed]",
      "text/plain": [
       "<Figure size 640x480 with 1 Axes>"
      ]
     },
     "metadata": {},
     "output_type": "display_data"
    }
   ],
   "source": [
    "plt.plot(history_conv.history['acc'])\n",
    "plt.plot(history_conv.history['val_acc'])\n",
    "plt.title('model accuracy')\n",
    "plt.ylabel('accuracy (%)')\n",
    "plt.xlabel('epoch')\n",
    "plt.legend(['train accuracy', 'val accuracy'], loc='upper left')\n",
    "plt.show()"
   ]
  },
  {
   "cell_type": "code",
   "execution_count": 73,
   "metadata": {},
   "outputs": [],
   "source": [
    "from sklearn.metrics import confusion_matrix"
   ]
  },
  {
   "cell_type": "code",
   "execution_count": 74,
   "metadata": {},
   "outputs": [
    {
     "name": "stdout",
     "output_type": "stream",
     "text": [
      "15/15 [==============================] - 0s 9ms/step\n"
     ]
    },
    {
     "ename": "ValueError",
     "evalue": "Shape of passed values is (9, 9), indices imply (36, 36)",
     "output_type": "error",
     "traceback": [
      "\u001b[0;31m---------------------------------------------------------------------------\u001b[0m",
      "\u001b[0;31mValueError\u001b[0m                                Traceback (most recent call last)",
      "Cell \u001b[0;32mIn [74], line 8\u001b[0m\n\u001b[1;32m      4\u001b[0m corr_results \u001b[39m=\u001b[39m [np\u001b[39m.\u001b[39margmax(Y_val) \u001b[39mfor\u001b[39;00m Y_val \u001b[39min\u001b[39;00m y_dataset]\n\u001b[1;32m      6\u001b[0m conf_matrix \u001b[39m=\u001b[39m confusion_matrix(corr_results, pred_results)\n\u001b[0;32m----> 8\u001b[0m df_cm \u001b[39m=\u001b[39m pd\u001b[39m.\u001b[39;49mDataFrame(conf_matrix, index \u001b[39m=\u001b[39;49m [i \u001b[39mfor\u001b[39;49;00m i \u001b[39min\u001b[39;49;00m one_hot_ref],\n\u001b[1;32m      9\u001b[0m                   columns \u001b[39m=\u001b[39;49m [i \u001b[39mfor\u001b[39;49;00m i \u001b[39min\u001b[39;49;00m one_hot_ref])\n\u001b[1;32m     10\u001b[0m plt\u001b[39m.\u001b[39mfigure(figsize \u001b[39m=\u001b[39m (\u001b[39m15\u001b[39m,\u001b[39m8\u001b[39m))\n\u001b[1;32m     11\u001b[0m sn\u001b[39m.\u001b[39mheatmap(df_cm, annot\u001b[39m=\u001b[39m\u001b[39mTrue\u001b[39;00m)\n",
      "File \u001b[0;32m~/miniconda3/envs/tf/lib/python3.9/site-packages/pandas/core/frame.py:720\u001b[0m, in \u001b[0;36mDataFrame.__init__\u001b[0;34m(self, data, index, columns, dtype, copy)\u001b[0m\n\u001b[1;32m    710\u001b[0m         mgr \u001b[39m=\u001b[39m dict_to_mgr(\n\u001b[1;32m    711\u001b[0m             \u001b[39m# error: Item \"ndarray\" of \"Union[ndarray, Series, Index]\" has no\u001b[39;00m\n\u001b[1;32m    712\u001b[0m             \u001b[39m# attribute \"name\"\u001b[39;00m\n\u001b[0;32m   (...)\u001b[0m\n\u001b[1;32m    717\u001b[0m             typ\u001b[39m=\u001b[39mmanager,\n\u001b[1;32m    718\u001b[0m         )\n\u001b[1;32m    719\u001b[0m     \u001b[39melse\u001b[39;00m:\n\u001b[0;32m--> 720\u001b[0m         mgr \u001b[39m=\u001b[39m ndarray_to_mgr(\n\u001b[1;32m    721\u001b[0m             data,\n\u001b[1;32m    722\u001b[0m             index,\n\u001b[1;32m    723\u001b[0m             columns,\n\u001b[1;32m    724\u001b[0m             dtype\u001b[39m=\u001b[39;49mdtype,\n\u001b[1;32m    725\u001b[0m             copy\u001b[39m=\u001b[39;49mcopy,\n\u001b[1;32m    726\u001b[0m             typ\u001b[39m=\u001b[39;49mmanager,\n\u001b[1;32m    727\u001b[0m         )\n\u001b[1;32m    729\u001b[0m \u001b[39m# For data is list-like, or Iterable (will consume into list)\u001b[39;00m\n\u001b[1;32m    730\u001b[0m \u001b[39melif\u001b[39;00m is_list_like(data):\n",
      "File \u001b[0;32m~/miniconda3/envs/tf/lib/python3.9/site-packages/pandas/core/internals/construction.py:349\u001b[0m, in \u001b[0;36mndarray_to_mgr\u001b[0;34m(values, index, columns, dtype, copy, typ)\u001b[0m\n\u001b[1;32m    344\u001b[0m \u001b[39m# _prep_ndarraylike ensures that values.ndim == 2 at this point\u001b[39;00m\n\u001b[1;32m    345\u001b[0m index, columns \u001b[39m=\u001b[39m _get_axes(\n\u001b[1;32m    346\u001b[0m     values\u001b[39m.\u001b[39mshape[\u001b[39m0\u001b[39m], values\u001b[39m.\u001b[39mshape[\u001b[39m1\u001b[39m], index\u001b[39m=\u001b[39mindex, columns\u001b[39m=\u001b[39mcolumns\n\u001b[1;32m    347\u001b[0m )\n\u001b[0;32m--> 349\u001b[0m _check_values_indices_shape_match(values, index, columns)\n\u001b[1;32m    351\u001b[0m \u001b[39mif\u001b[39;00m typ \u001b[39m==\u001b[39m \u001b[39m\"\u001b[39m\u001b[39marray\u001b[39m\u001b[39m\"\u001b[39m:\n\u001b[1;32m    353\u001b[0m     \u001b[39mif\u001b[39;00m \u001b[39missubclass\u001b[39m(values\u001b[39m.\u001b[39mdtype\u001b[39m.\u001b[39mtype, \u001b[39mstr\u001b[39m):\n",
      "File \u001b[0;32m~/miniconda3/envs/tf/lib/python3.9/site-packages/pandas/core/internals/construction.py:420\u001b[0m, in \u001b[0;36m_check_values_indices_shape_match\u001b[0;34m(values, index, columns)\u001b[0m\n\u001b[1;32m    418\u001b[0m passed \u001b[39m=\u001b[39m values\u001b[39m.\u001b[39mshape\n\u001b[1;32m    419\u001b[0m implied \u001b[39m=\u001b[39m (\u001b[39mlen\u001b[39m(index), \u001b[39mlen\u001b[39m(columns))\n\u001b[0;32m--> 420\u001b[0m \u001b[39mraise\u001b[39;00m \u001b[39mValueError\u001b[39;00m(\u001b[39mf\u001b[39m\u001b[39m\"\u001b[39m\u001b[39mShape of passed values is \u001b[39m\u001b[39m{\u001b[39;00mpassed\u001b[39m}\u001b[39;00m\u001b[39m, indices imply \u001b[39m\u001b[39m{\u001b[39;00mimplied\u001b[39m}\u001b[39;00m\u001b[39m\"\u001b[39m)\n",
      "\u001b[0;31mValueError\u001b[0m: Shape of passed values is (9, 9), indices imply (36, 36)"
     ]
    }
   ],
   "source": [
    "pred_matrix = conv_model.predict(x_dataset)\n",
    "\n",
    "pred_results = [np.argmax(pred) for pred in pred_matrix]\n",
    "corr_results = [np.argmax(Y_val) for Y_val in y_dataset]\n",
    "\n",
    "conf_matrix = confusion_matrix(corr_results, pred_results)\n",
    "\n",
    "df_cm = pd.DataFrame(conf_matrix, index = [i for i in one_hot_ref],\n",
    "                  columns = [i for i in one_hot_ref])\n",
    "plt.figure(figsize = (15,8))\n",
    "sn.heatmap(df_cm, annot=True)"
   ]
  },
  {
   "cell_type": "code",
   "execution_count": null,
   "metadata": {},
   "outputs": [
    {
     "name": "stdout",
     "output_type": "stream",
     "text": [
      "35/35 [==============================] - 0s 1ms/step\n"
     ]
    }
   ],
   "source": [
    "pred_matrix = conv_model.predict(x_dataset)\n",
    "pred_results = [np.argmax(pred) for pred in pred_matrix]\n",
    "corr_results = [np.argmax(Y_val) for Y_val in y_dataset]"
   ]
  },
  {
   "cell_type": "code",
   "execution_count": null,
   "metadata": {},
   "outputs": [
    {
     "name": "stdout",
     "output_type": "stream",
     "text": [
      "35/35 [==============================] - 0s 1ms/step\n",
      "[5.1432079e-21 2.1208761e-26 2.5950668e-17 2.2889838e-26 6.2554613e-21\n",
      " 3.7961851e-21 1.3952884e-19 1.1685697e-23 1.8904996e-22 5.2487210e-25\n",
      " 6.9459746e-18 5.6754574e-18 8.1698799e-19 7.8372120e-16 2.2462316e-22\n",
      " 3.4031993e-23 1.1156070e-21 1.8785873e-22 2.3737680e-16 1.6713504e-26\n",
      " 6.0729007e-16 1.1533691e-18 1.8013260e-24 1.0000000e+00 2.5093962e-11\n",
      " 4.2130148e-16 1.0010041e-22 1.7637690e-12 4.8227003e-22 4.4362456e-20\n",
      " 6.5635662e-16 2.2877249e-20 1.3387562e-14 1.7526135e-14 4.5718736e-17\n",
      " 5.3969282e-21]\n"
     ]
    }
   ],
   "source": [
    "print(conv_model.predict(x_dataset)[0])"
   ]
  },
  {
   "cell_type": "code",
   "execution_count": null,
   "metadata": {},
   "outputs": [],
   "source": []
  }
 ],
 "metadata": {
  "kernelspec": {
   "display_name": "Python 3.9.15 ('tf')",
   "language": "python",
   "name": "python3"
  },
  "language_info": {
   "codemirror_mode": {
    "name": "ipython",
    "version": 3
   },
   "file_extension": ".py",
   "mimetype": "text/x-python",
   "name": "python",
   "nbconvert_exporter": "python",
   "pygments_lexer": "ipython3",
   "version": "3.9.15 (main, Nov  4 2022, 16:13:54) \n[GCC 11.2.0]"
  },
  "orig_nbformat": 4,
  "vscode": {
   "interpreter": {
    "hash": "578e924f1569627a7b9460d9a60221db2eceef51bb5e555905b8909493232376"
   }
  }
 },
 "nbformat": 4,
 "nbformat_minor": 2
}
