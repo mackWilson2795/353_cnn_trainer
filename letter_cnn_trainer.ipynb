{
 "cells": [
  {
   "cell_type": "code",
<<<<<<< HEAD
   "execution_count": 61,
=======
   "execution_count": 127,
>>>>>>> ea985da39bb5fcfca61ed7342dc16dda6cb3501f
   "metadata": {},
   "outputs": [
    {
     "name": "stdout",
     "output_type": "stream",
     "text": [
      "env: XLA_FLAGS=--xla_gpu_cuda_data_dir=/usr/lib/cuda/\n"
     ]
    }
   ],
   "source": [
    "import math\n",
    "import sys\n",
    "import numpy as np\n",
    "import re\n",
    "import string\n",
    "import random\n",
    "from random import randint\n",
    "import cv2\n",
    "import os\n",
    "\n",
    "from collections import Counter\n",
    "from matplotlib import pyplot as plt\n",
    "from PIL import Image, ImageFont, ImageDraw\n",
    "from tensorflow.keras import layers\n",
    "from tensorflow.keras import models\n",
    "from tensorflow.keras import optimizers\n",
    "from tensorflow.keras import callbacks\n",
    "\n",
    "from tensorflow.keras.utils import plot_model\n",
    "from tensorflow.keras import backend\n",
    "\n",
    "import seaborn as sn\n",
    "import pandas as pd\n",
    "import matplotlib.pyplot as plti\n",
    "\n",
    "%env XLA_FLAGS=--xla_gpu_cuda_data_dir=/usr/lib/cuda/"
   ]
  },
  {
   "cell_type": "code",
<<<<<<< HEAD
   "execution_count": 62,
=======
   "execution_count": 128,
>>>>>>> ea985da39bb5fcfca61ed7342dc16dda6cb3501f
   "metadata": {},
   "outputs": [],
   "source": [
    "# CONSTANTS\n",
    "IM_PATH = \"/home/fizzer/labelled_plates\"\n",
    "DST_PATH = \"/home/fizzer/labelled_dsts\"\n",
<<<<<<< HEAD
=======
    "CP_PATH = \"/home/fizzer/cnn_trainer/letter_model/cps/\"\n",
    "SAVE_PATH = \"/home/fizzer/cnn_trainer/letter_model/save/\"\n",
>>>>>>> ea985da39bb5fcfca61ed7342dc16dda6cb3501f
    "NUM_LABELS = 26\n",
    "CONFIDENCE_THRESHOLD = 0.01\n",
    "VALIDATION_SPLIT = 0.2\n",
    "LEARNING_RATE = 1e-4\n",
    "HSV_LOWER = np.array([115,80,90])\n",
    "HSV_UPPER = np.array([130,255,205])\n",
    "DST_LOWER = np.array([0,0,0])\n",
    "DST_UPPER = np.array([0,0,90])"
   ]
  },
  {
   "cell_type": "code",
<<<<<<< HEAD
   "execution_count": 63,
   "metadata": {},
   "outputs": [],
   "source": [
    "# PLATES\n",
    "# CP_PATH = \"/home/fizzer/cnn_trainer/letter_model/cps/\"\n",
    "# SAVE_PATH = \"/home/fizzer/cnn_trainer/letter_model/save/\""
   ]
  },
  {
   "cell_type": "code",
   "execution_count": 64,
   "metadata": {},
   "outputs": [],
   "source": [
    "# DSTS\n",
    "CP_PATH = \"/home/fizzer/cnn_trainer/dst_model/cps/\"\n",
    "SAVE_PATH = \"/home/fizzer/cnn_trainer/dst_model/save/\""
   ]
  },
  {
   "cell_type": "code",
   "execution_count": 65,
=======
   "execution_count": 129,
>>>>>>> ea985da39bb5fcfca61ed7342dc16dda6cb3501f
   "metadata": {},
   "outputs": [],
   "source": [
    "# Set up one hot reference \n",
    "one_hot_ref = \"ABCDEFGHIJKLMNOPQRSTUVWXYZ0123456789\"\n",
    "def one_hot_map(c):\n",
    "    arr = np.zeros(len(one_hot_ref))\n",
    "    arr[one_hot_ref.find(c)] = 1\n",
    "    return arr"
   ]
  },
  {
   "cell_type": "code",
<<<<<<< HEAD
   "execution_count": 66,
=======
   "execution_count": 130,
>>>>>>> ea985da39bb5fcfca61ed7342dc16dda6cb3501f
   "metadata": {},
   "outputs": [
    {
     "name": "stderr",
     "output_type": "stream",
     "text": [
      "/home/fizzer/miniconda3/envs/tf/lib/python3.9/site-packages/numpy/lib/function_base.py:334: VisibleDeprecationWarning: Creating an ndarray from ragged nested sequences (which is a list-or-tuple of lists-or-tuples-or ndarrays with different lengths or shapes) is deprecated. If you meant to do this, you must specify 'dtype=object' when creating the ndarray.\n",
      "  m = asarray(m)\n"
     ]
    },
    {
     "data": {
      "text/plain": [
       "-1"
      ]
     },
<<<<<<< HEAD
     "execution_count": 66,
=======
     "execution_count": 130,
>>>>>>> ea985da39bb5fcfca61ed7342dc16dda6cb3501f
     "metadata": {},
     "output_type": "execute_result"
    }
   ],
   "source": [
    "i = cv2.imread(f\"{IM_PATH}/PLT_000013_IP61.png\")\n",
    "hsv = cv2.cvtColor(i, cv2.COLOR_BGR2HSV)\n",
    "blur = cv2.GaussianBlur(hsv, (5,5), cv2.BORDER_DEFAULT)\n",
    "# Mask -> Get contours -> Take 4 Largest contours\n",
    "i_mask = cv2.inRange(blur, HSV_LOWER, HSV_UPPER)\n",
    "contours, _ = cv2.findContours(i_mask, cv2.RETR_TREE, cv2.CHAIN_APPROX_SIMPLE)\n",
    "cnts_sorted = np.flip(sorted(contours, key=lambda x: cv2.contourArea(x))[-4:])\n",
    "# Sort contours left to right\n",
    "rects = []\n",
    "for cnt in cnts_sorted:\n",
    "    x,y,w,h = cv2.boundingRect(cnt)\n",
    "    rects.append([x,y,w,h])\n",
    "rects = np.array(rects)\n",
    "rects = sorted(rects, key=lambda x: x[0])\n",
    "# Show a slice\n",
    "x,y,w,h = rects[0]\n",
    "cv2.imshow(\"img\", i_mask[y:y+h,x:x+w])\n",
    "cv2.waitKey(1)"
   ]
  },
  {
   "cell_type": "code",
<<<<<<< HEAD
   "execution_count": 67,
   "metadata": {},
   "outputs": [],
   "source": [
    "KERNEL = np.ones((3,3), np.uint8)\n",
    "def get_char(img, char, rect):\n",
    "    x,y,w,h = rect\n",
    "    im = cv2.resize(img[y:y+h,x:x+w], (75,100))\n",
    "    im = cv2.erode(cv2.dilate(im, KERNEL, iterations=1), KERNEL, iterations=1)\n",
    "    return (one_hot_map(char), im)"
   ]
  },
  {
   "cell_type": "code",
   "execution_count": 68,
=======
   "execution_count": 131,
>>>>>>> ea985da39bb5fcfca61ed7342dc16dda6cb3501f
   "metadata": {},
   "outputs": [],
   "source": [
    "# THIS IS FOR READING THE PLATE NUMBERS/LETTERS\n",
    "def crop_plate(plate_path):\n",
    "    img = cv2.imread(f\"{IM_PATH}/{plate_path}\")\n",
    "    hsv = cv2.cvtColor(img, cv2.COLOR_BGR2HSV)\n",
<<<<<<< HEAD
    "    blur = cv2.GaussianBlur(hsv, (3,3), cv2.BORDER_DEFAULT)\n",
    "    mask = cv2.inRange(blur, HSV_LOWER, HSV_UPPER)\n",
=======
    "    blur = cv2.GaussianBlur(hsv, (5,5), cv2.BORDER_DEFAULT)\n",
    "    mask = cv2.inRange(hsv, HSV_LOWER, HSV_UPPER)\n",
>>>>>>> ea985da39bb5fcfca61ed7342dc16dda6cb3501f
    "    # Mask -> Get contours -> Take 4 Largest contours\n",
    "    contours, _ = cv2.findContours(mask, cv2.RETR_TREE, cv2.CHAIN_APPROX_SIMPLE)\n",
    "    cnts_sorted = np.flip(sorted(contours, key=lambda x: cv2.contourArea(x))[-4:])\n",
    "    rects = []\n",
    "    for cnt in cnts_sorted:\n",
    "        x,y,w,h = cv2.boundingRect(cnt)\n",
    "        rects.append([x,y,w,h])\n",
    "    rects = np.array(rects)\n",
    "    rects = sorted(rects, key=lambda x: x[0])\n",
    "    # Perform image processing\n",
    "    return get_char(mask, plate_path[-8], rects[0]), get_char(mask, plate_path[-7], rects[1]), get_char(mask, plate_path[-6], rects[2]), get_char(mask, plate_path[-5], rects[3])"
   ]
  },
  {
   "cell_type": "code",
<<<<<<< HEAD
   "execution_count": 69,
=======
   "execution_count": 132,
>>>>>>> ea985da39bb5fcfca61ed7342dc16dda6cb3501f
   "metadata": {},
   "outputs": [],
   "source": [
    "# THIS IS FOR READING THE \"CAR NUMBER\"\n",
    "def crop_dst(plate_path):\n",
    "    img = cv2.imread(f\"{DST_PATH}/{plate_path}\")\n",
    "    hsv = cv2.cvtColor(img, cv2.COLOR_BGR2HSV)\n",
<<<<<<< HEAD
    "    blur = cv2.GaussianBlur(hsv, (3,3), cv2.BORDER_DEFAULT)\n",
=======
    "    blur = cv2.GaussianBlur(hsv, (5,5), cv2.BORDER_DEFAULT)\n",
>>>>>>> ea985da39bb5fcfca61ed7342dc16dda6cb3501f
    "    mask = cv2.inRange(hsv, DST_LOWER, DST_UPPER)\n",
    "    # Mask -> Get contours -> Take 4 Largest contours\n",
    "    contours, _ = cv2.findContours(mask, cv2.RETR_TREE, cv2.CHAIN_APPROX_SIMPLE)\n",
    "    cnts_sorted = np.flip(sorted(contours, key=lambda x: cv2.contourArea(x))[-2:])\n",
    "    rects = []\n",
    "    for cnt in cnts_sorted:\n",
    "        x,y,w,h = cv2.boundingRect(cnt)\n",
    "        rects.append([x,y,w,h])\n",
    "    rects = np.array(rects)\n",
    "    rects = sorted(rects, key=lambda x: x[0])\n",
<<<<<<< HEAD
    "    print(plate_path[-5])\n",
=======
>>>>>>> ea985da39bb5fcfca61ed7342dc16dda6cb3501f
    "    return get_char(mask, plate_path[-5], rects[1])"
   ]
  },
  {
   "cell_type": "code",
<<<<<<< HEAD
   "execution_count": 70,
   "metadata": {},
   "outputs": [
    {
     "name": "stdout",
     "output_type": "stream",
     "text": [
      "1\n",
      "2\n",
      "2\n",
      "6\n",
      "2\n",
      "8\n",
      "1\n",
      "6\n",
      "6\n",
      "5\n",
      "7\n",
      "2\n",
      "1\n",
      "6\n",
      "4\n",
      "3\n",
      "6\n",
      "6\n",
      "6\n",
      "7\n",
      "5\n",
      "1\n",
      "1\n",
      "6\n",
      "6\n",
      "7\n",
      "4\n",
      "3\n",
      "3\n",
      "5\n",
      "2\n",
      "1\n",
      "8\n",
      "3\n",
      "1\n",
      "2\n",
      "7\n",
      "3\n",
      "4\n",
      "7\n",
      "1\n",
      "3\n",
      "2\n",
      "2\n",
      "2\n",
      "4\n",
      "5\n",
      "1\n",
      "3\n",
      "4\n",
      "4\n",
      "7\n",
      "2\n",
      "5\n",
      "4\n",
      "3\n",
      "8\n",
      "1\n",
      "3\n",
      "8\n",
      "7\n",
      "2\n",
      "3\n",
      "5\n",
      "3\n",
      "6\n",
      "7\n",
      "6\n",
      "1\n",
      "2\n",
      "2\n",
      "3\n",
      "1\n",
      "8\n",
      "3\n",
      "7\n",
      "3\n",
      "6\n",
      "7\n",
      "7\n",
      "3\n",
      "5\n",
      "6\n",
      "8\n",
      "8\n",
      "1\n",
      "7\n",
      "5\n",
      "4\n",
      "5\n",
      "5\n",
      "5\n",
      "3\n",
      "1\n",
      "6\n",
      "8\n",
      "4\n",
      "8\n",
      "3\n",
      "4\n",
      "3\n",
      "6\n",
      "4\n",
      "3\n",
      "6\n",
      "7\n",
      "6\n",
      "4\n",
      "4\n",
      "8\n",
      "8\n",
      "2\n",
      "5\n",
      "4\n",
      "5\n",
      "5\n",
      "1\n",
      "5\n",
      "4\n",
      "3\n",
      "4\n",
      "2\n",
      "2\n",
      "4\n",
      "3\n",
      "4\n",
      "8\n",
      "8\n",
      "1\n",
      "3\n",
      "5\n",
      "7\n",
      "5\n",
      "6\n",
      "3\n",
      "4\n",
      "6\n",
      "5\n",
      "6\n",
      "3\n",
      "1\n",
      "2\n",
      "7\n",
      "7\n",
      "6\n",
      "7\n",
      "3\n",
      "3\n",
      "4\n",
      "3\n",
      "4\n",
      "8\n",
      "1\n",
      "4\n",
      "6\n",
      "3\n",
      "8\n",
      "8\n",
      "1\n",
      "5\n",
      "8\n",
      "1\n",
      "1\n",
      "3\n",
      "2\n",
      "5\n",
      "3\n",
      "3\n",
      "2\n",
      "5\n",
      "2\n",
      "5\n",
      "4\n",
      "7\n",
      "1\n",
      "4\n",
      "2\n",
      "6\n",
      "7\n",
      "3\n",
      "4\n",
      "8\n",
      "3\n",
      "8\n",
      "7\n",
      "6\n",
      "5\n",
      "2\n",
      "6\n",
      "7\n",
      "2\n",
      "4\n",
      "7\n",
      "5\n",
      "3\n",
      "3\n",
      "2\n",
      "4\n",
      "7\n",
      "8\n",
      "6\n",
      "7\n",
      "6\n",
      "5\n",
      "7\n",
      "7\n",
      "8\n",
      "4\n",
      "2\n",
      "4\n",
      "1\n",
      "4\n",
      "2\n",
      "6\n",
      "2\n",
      "6\n",
      "4\n",
      "5\n",
      "5\n",
      "6\n",
      "1\n",
      "3\n",
      "8\n",
      "2\n",
      "2\n",
      "5\n",
      "4\n",
      "5\n",
      "7\n",
      "7\n",
      "6\n",
      "7\n",
      "3\n",
      "3\n",
      "3\n",
      "4\n",
      "I\n",
      "3\n",
      "6\n",
      "7\n",
      "4\n",
      "3\n",
      "3\n",
      "3\n",
      "5\n",
      "8\n",
      "5\n",
      "3\n",
      "4\n",
      "1\n",
      "8\n",
      "2\n",
      "4\n",
      "3\n",
      "5\n",
      "7\n",
      "7\n",
      "3\n"
     ]
    },
    {
     "name": "stderr",
     "output_type": "stream",
     "text": [
      "/tmp/ipykernel_3158/2383928999.py:18: VisibleDeprecationWarning: Creating an ndarray from ragged nested sequences (which is a list-or-tuple of lists-or-tuples-or ndarrays with different lengths or shapes) is deprecated. If you meant to do this, you must specify 'dtype=object' when creating the ndarray.\n",
=======
   "execution_count": 133,
   "metadata": {},
   "outputs": [],
   "source": [
    "KERNEL = np.ones((3,3), np.uint8)\n",
    "def get_char(img, char, rect):\n",
    "    x,y,w,h = rect\n",
    "    im = cv2.resize(img[y:y+h,x:x+w], (75,100))\n",
    "    im = cv2.erode(cv2.dilate(im, KERNEL, iterations=1), KERNEL, iterations=1)\n",
    "    return (one_hot_map(char), im)"
   ]
  },
  {
   "cell_type": "code",
   "execution_count": 134,
   "metadata": {},
   "outputs": [
    {
     "name": "stderr",
     "output_type": "stream",
     "text": [
      "/tmp/ipykernel_864927/1402255530.py:14: VisibleDeprecationWarning: Creating an ndarray from ragged nested sequences (which is a list-or-tuple of lists-or-tuples-or ndarrays with different lengths or shapes) is deprecated. If you meant to do this, you must specify 'dtype=object' when creating the ndarray.\n",
>>>>>>> ea985da39bb5fcfca61ed7342dc16dda6cb3501f
      "  dataset = np.array(imset)\n"
     ]
    }
   ],
   "source": [
<<<<<<< HEAD
    "imset = []\n",
    "\n",
    "# Read plates\n",
    "# dir_contents = np.array(os.listdir(IM_PATH))\n",
    "# for im_path in dir_contents:\n",
    "#    # Plates\n",
    "#    p1,p2,p3,p4 = crop_plate(im_path)\n",
    "#    imset.extend([p1,p2,p3,p4])\n",
    "\n",
    "# Read dsts\n",
    "dir_contents = np.array(os.listdir(DST_PATH))\n",
    "for im_path in dir_contents:\n",
    "  # DSTs\n",
    "   p1 = crop_dst(im_path)\n",
    "   imset.extend([p1])\n",
=======
    "# Read dsts\n",
    "dir_contents = np.array(os.listdir(DST_PATH))\n",
    "# Read plates\n",
    "# dir_contents = np.array(os.listdir(IM_PATH))\n",
    "imset = []\n",
    "for im_path in dir_contents:\n",
    "    # Plates\n",
    "    # p1,p2,p3,p4 = crop_plate(im_path)\n",
    "    # imset.extend([p1,p2,p3,p4])\n",
    "    # DSTs\n",
    "    p1 = crop_dst(im_path)\n",
    "    imset.extend([p1])\n",
>>>>>>> ea985da39bb5fcfca61ed7342dc16dda6cb3501f
    "\n",
    "\n",
    "dataset = np.array(imset)\n",
    "np.random.shuffle(dataset)"
   ]
  },
  {
   "cell_type": "code",
<<<<<<< HEAD
   "execution_count": 71,
=======
   "execution_count": 147,
>>>>>>> ea985da39bb5fcfca61ed7342dc16dda6cb3501f
   "metadata": {},
   "outputs": [
    {
     "name": "stdout",
     "output_type": "stream",
     "text": [
      "(258, 100, 75, 1)\n"
     ]
    }
   ],
   "source": [
    "x_dataset = np.array([img[1][:] for img in imset[:]])\n",
    "y_dataset = np.array([img[0] for img in imset[:]])\n",
    "x_dataset = x_dataset/255.0\n",
    "x_dataset = x_dataset.reshape(len(x_dataset), len(x_dataset[0]), len(x_dataset[0][0]), -1)\n",
    "cv2.imshow(\"1\", x_dataset[7])\n",
    "cv2.waitKey(1)\n",
    "print(x_dataset.shape)"
   ]
  },
  {
   "cell_type": "code",
<<<<<<< HEAD
   "execution_count": 72,
=======
   "execution_count": 139,
>>>>>>> ea985da39bb5fcfca61ed7342dc16dda6cb3501f
   "metadata": {},
   "outputs": [],
   "source": [
    "# TODO: The following was copy pasted - validate\n",
    "def reset_weights(model):\n",
    "    for ix, layer in enumerate(model.layers):\n",
    "        if (hasattr(model.layers[ix], 'kernel_initializer') and \n",
    "            hasattr(model.layers[ix], 'bias_initializer')):\n",
    "            weight_initializer = model.layers[ix].kernel_initializer\n",
    "            bias_initializer = model.layers[ix].bias_initializer\n",
    "\n",
    "            old_weights, old_biases = model.layers[ix].get_weights()\n",
    "\n",
    "            model.layers[ix].set_weights([\n",
    "                weight_initializer(shape=old_weights.shape),\n",
    "                bias_initializer(shape=len(old_biases))])"
   ]
  },
  {
   "cell_type": "code",
<<<<<<< HEAD
   "execution_count": 73,
=======
   "execution_count": 94,
>>>>>>> ea985da39bb5fcfca61ed7342dc16dda6cb3501f
   "metadata": {},
   "outputs": [],
   "source": [
    "conv_model = models.Sequential()\n",
    "conv_model.add(layers.Conv2D(32, (3, 3), activation='relu',\n",
    "                             input_shape=(100, 75, 1)))\n",
    "conv_model.add(layers.MaxPooling2D((2, 2)))\n",
    "conv_model.add(layers.Conv2D(64, (3, 3), activation='relu'))\n",
    "conv_model.add(layers.MaxPooling2D((2, 2)))\n",
    "conv_model.add(layers.Conv2D(128, (3, 3), activation='relu'))\n",
    "conv_model.add(layers.MaxPooling2D((2, 2)))\n",
    "conv_model.add(layers.Conv2D(128, (3, 3), activation='relu'))\n",
    "conv_model.add(layers.MaxPooling2D((2, 2)))\n",
    "conv_model.add(layers.Flatten())\n",
    "conv_model.add(layers.Dropout(0.5))\n",
    "conv_model.add(layers.Dense(512, activation='relu'))\n",
    "conv_model.add(layers.Dense(36, activation='softmax'))\n",
    "cp_callback = callbacks.ModelCheckpoint(filepath=CP_PATH, save_weights_only=True, verbose=1)"
   ]
  },
  {
   "cell_type": "code",
<<<<<<< HEAD
   "execution_count": 74,
=======
   "execution_count": 95,
>>>>>>> ea985da39bb5fcfca61ed7342dc16dda6cb3501f
   "metadata": {},
   "outputs": [
    {
     "name": "stderr",
     "output_type": "stream",
     "text": [
      "WARNING:absl:`lr` is deprecated, please use `learning_rate` instead, or use the legacy optimizer, e.g.,tf.keras.optimizers.legacy.RMSprop.\n"
     ]
    }
   ],
   "source": [
    "LEARNING_RATE = 1e-4\n",
    "conv_model.compile(loss='categorical_crossentropy',\n",
    "                   optimizer=optimizers.RMSprop(lr=LEARNING_RATE),\n",
    "                   metrics=['acc'])"
   ]
  },
  {
   "cell_type": "code",
<<<<<<< HEAD
   "execution_count": 75,
=======
   "execution_count": 96,
>>>>>>> ea985da39bb5fcfca61ed7342dc16dda6cb3501f
   "metadata": {},
   "outputs": [
    {
     "name": "stdout",
     "output_type": "stream",
     "text": [
<<<<<<< HEAD
      "Epoch 1/10\n",
      " 1/13 [=>............................] - ETA: 8s - loss: 3.5651 - acc: 0.0000e+00\n",
      "Epoch 1: saving model to /home/fizzer/cnn_trainer/dst_model/cps/\n",
      "13/13 [==============================] - 1s 14ms/step - loss: 1.6262 - acc: 0.5291 - val_loss: 0.2205 - val_acc: 0.9808\n",
      "Epoch 2/10\n",
      " 1/13 [=>............................] - ETA: 0s - loss: 0.0610 - acc: 1.0000\n",
      "Epoch 2: saving model to /home/fizzer/cnn_trainer/dst_model/cps/\n",
      "13/13 [==============================] - 0s 14ms/step - loss: 0.1665 - acc: 0.9563 - val_loss: 0.2462 - val_acc: 0.9808\n",
      "Epoch 3/10\n",
      " 1/13 [=>............................] - ETA: 0s - loss: 0.0075 - acc: 1.0000\n",
      "Epoch 3: saving model to /home/fizzer/cnn_trainer/dst_model/cps/\n",
      "13/13 [==============================] - 0s 8ms/step - loss: 0.0040 - acc: 1.0000 - val_loss: 0.3059 - val_acc: 0.9808\n",
      "Epoch 4/10\n",
      " 1/13 [=>............................] - ETA: 0s - loss: 0.0056 - acc: 1.0000\n",
      "Epoch 4: saving model to /home/fizzer/cnn_trainer/dst_model/cps/\n",
      "13/13 [==============================] - 0s 8ms/step - loss: 0.0014 - acc: 1.0000 - val_loss: 0.3555 - val_acc: 0.9808\n",
      "Epoch 5/10\n",
      " 1/13 [=>............................] - ETA: 0s - loss: 6.4933e-04 - acc: 1.0000\n",
      "Epoch 5: saving model to /home/fizzer/cnn_trainer/dst_model/cps/\n",
      "13/13 [==============================] - 0s 9ms/step - loss: 6.3374e-04 - acc: 1.0000 - val_loss: 0.3966 - val_acc: 0.9808\n",
      "Epoch 6/10\n",
      " 1/13 [=>............................] - ETA: 0s - loss: 2.1809e-04 - acc: 1.0000\n",
      "Epoch 6: saving model to /home/fizzer/cnn_trainer/dst_model/cps/\n",
      "13/13 [==============================] - 0s 12ms/step - loss: 2.1923e-04 - acc: 1.0000 - val_loss: 0.4308 - val_acc: 0.9808\n",
      "Epoch 7/10\n",
      " 1/13 [=>............................] - ETA: 0s - loss: 1.4051e-04 - acc: 1.0000\n",
      "Epoch 7: saving model to /home/fizzer/cnn_trainer/dst_model/cps/\n",
      "13/13 [==============================] - 0s 9ms/step - loss: 0.1657 - acc: 0.9563 - val_loss: 0.2551 - val_acc: 0.9808\n",
      "Epoch 8/10\n",
      " 1/13 [=>............................] - ETA: 0s - loss: 0.0035 - acc: 1.0000\n",
      "Epoch 8: saving model to /home/fizzer/cnn_trainer/dst_model/cps/\n",
      "13/13 [==============================] - 0s 9ms/step - loss: 0.0013 - acc: 1.0000 - val_loss: 0.3156 - val_acc: 0.9808\n",
      "Epoch 9/10\n",
      " 1/13 [=>............................] - ETA: 0s - loss: 7.4351e-04 - acc: 1.0000\n",
      "Epoch 9: saving model to /home/fizzer/cnn_trainer/dst_model/cps/\n",
      "13/13 [==============================] - 0s 9ms/step - loss: 3.8366e-04 - acc: 1.0000 - val_loss: 0.3445 - val_acc: 0.9808\n",
      "Epoch 10/10\n",
      " 1/13 [=>............................] - ETA: 0s - loss: 2.6932e-04 - acc: 1.0000\n",
      "Epoch 10: saving model to /home/fizzer/cnn_trainer/dst_model/cps/\n",
      "13/13 [==============================] - 0s 9ms/step - loss: 1.9370e-04 - acc: 1.0000 - val_loss: 0.3755 - val_acc: 0.9808\n"
=======
      "Epoch 1/60\n",
      "49/55 [=========================>....] - ETA: 0s - loss: 2.7075 - acc: 0.3023   \n",
      "Epoch 1: saving model to /home/fizzer/cnn_trainer/letter_model/cps/\n",
      "55/55 [==============================] - 1s 6ms/step - loss: 2.5796 - acc: 0.3368 - val_loss: 1.2009 - val_acc: 0.6909\n",
      "Epoch 2/60\n",
      "47/55 [========================>.....] - ETA: 0s - loss: 1.1814 - acc: 0.7301\n",
      "Epoch 2: saving model to /home/fizzer/cnn_trainer/letter_model/cps/\n",
      "55/55 [==============================] - 0s 6ms/step - loss: 1.1134 - acc: 0.7432 - val_loss: 0.6171 - val_acc: 0.8545\n",
      "Epoch 3/60\n",
      "50/55 [==========================>...] - ETA: 0s - loss: 0.7805 - acc: 0.8025\n",
      "Epoch 3: saving model to /home/fizzer/cnn_trainer/letter_model/cps/\n",
      "55/55 [==============================] - 0s 4ms/step - loss: 0.7611 - acc: 0.8048 - val_loss: 0.5341 - val_acc: 0.8773\n",
      "Epoch 4/60\n",
      "48/55 [=========================>....] - ETA: 0s - loss: 0.5875 - acc: 0.8503\n",
      "Epoch 4: saving model to /home/fizzer/cnn_trainer/letter_model/cps/\n",
      "55/55 [==============================] - 0s 4ms/step - loss: 0.5910 - acc: 0.8505 - val_loss: 0.3927 - val_acc: 0.9091\n",
      "Epoch 5/60\n",
      "48/55 [=========================>....] - ETA: 0s - loss: 0.4724 - acc: 0.8958\n",
      "Epoch 5: saving model to /home/fizzer/cnn_trainer/letter_model/cps/\n",
      "55/55 [==============================] - 0s 4ms/step - loss: 0.4691 - acc: 0.8927 - val_loss: 0.4278 - val_acc: 0.8955\n",
      "Epoch 6/60\n",
      "48/55 [=========================>....] - ETA: 0s - loss: 0.4076 - acc: 0.8958\n",
      "Epoch 6: saving model to /home/fizzer/cnn_trainer/letter_model/cps/\n",
      "55/55 [==============================] - 0s 4ms/step - loss: 0.3966 - acc: 0.9018 - val_loss: 0.3715 - val_acc: 0.9227\n",
      "Epoch 7/60\n",
      "48/55 [=========================>....] - ETA: 0s - loss: 0.3569 - acc: 0.9115\n",
      "Epoch 7: saving model to /home/fizzer/cnn_trainer/letter_model/cps/\n",
      "55/55 [==============================] - 0s 4ms/step - loss: 0.3723 - acc: 0.9121 - val_loss: 0.3195 - val_acc: 0.9364\n",
      "Epoch 8/60\n",
      "47/55 [========================>.....] - ETA: 0s - loss: 0.3230 - acc: 0.9242\n",
      "Epoch 8: saving model to /home/fizzer/cnn_trainer/letter_model/cps/\n",
      "55/55 [==============================] - 0s 4ms/step - loss: 0.3204 - acc: 0.9235 - val_loss: 0.3531 - val_acc: 0.9227\n",
      "Epoch 9/60\n",
      "49/55 [=========================>....] - ETA: 0s - loss: 0.2687 - acc: 0.9349\n",
      "Epoch 9: saving model to /home/fizzer/cnn_trainer/letter_model/cps/\n",
      "55/55 [==============================] - 0s 4ms/step - loss: 0.2816 - acc: 0.9315 - val_loss: 0.3435 - val_acc: 0.9136\n",
      "Epoch 10/60\n",
      "47/55 [========================>.....] - ETA: 0s - loss: 0.2363 - acc: 0.9402\n",
      "Epoch 10: saving model to /home/fizzer/cnn_trainer/letter_model/cps/\n",
      "55/55 [==============================] - 0s 5ms/step - loss: 0.2667 - acc: 0.9338 - val_loss: 0.3014 - val_acc: 0.9273\n",
      "Epoch 11/60\n",
      "49/55 [=========================>....] - ETA: 0s - loss: 0.2413 - acc: 0.9337\n",
      "Epoch 11: saving model to /home/fizzer/cnn_trainer/letter_model/cps/\n",
      "55/55 [==============================] - 0s 4ms/step - loss: 0.2313 - acc: 0.9372 - val_loss: 0.3595 - val_acc: 0.9273\n",
      "Epoch 12/60\n",
      "47/55 [========================>.....] - ETA: 0s - loss: 0.2192 - acc: 0.9441\n",
      "Epoch 12: saving model to /home/fizzer/cnn_trainer/letter_model/cps/\n",
      "55/55 [==============================] - 0s 4ms/step - loss: 0.2431 - acc: 0.9372 - val_loss: 0.2809 - val_acc: 0.9364\n",
      "Epoch 13/60\n",
      "46/55 [========================>.....] - ETA: 0s - loss: 0.2071 - acc: 0.9511\n",
      "Epoch 13: saving model to /home/fizzer/cnn_trainer/letter_model/cps/\n",
      "55/55 [==============================] - 0s 4ms/step - loss: 0.2042 - acc: 0.9521 - val_loss: 0.5491 - val_acc: 0.8409\n",
      "Epoch 14/60\n",
      "47/55 [========================>.....] - ETA: 0s - loss: 0.1853 - acc: 0.9441\n",
      "Epoch 14: saving model to /home/fizzer/cnn_trainer/letter_model/cps/\n",
      "55/55 [==============================] - 0s 5ms/step - loss: 0.1867 - acc: 0.9463 - val_loss: 0.3740 - val_acc: 0.8773\n",
      "Epoch 15/60\n",
      "46/55 [========================>.....] - ETA: 0s - loss: 0.1459 - acc: 0.9592\n",
      "Epoch 15: saving model to /home/fizzer/cnn_trainer/letter_model/cps/\n",
      "55/55 [==============================] - 0s 4ms/step - loss: 0.1744 - acc: 0.9555 - val_loss: 0.2862 - val_acc: 0.9227\n",
      "Epoch 16/60\n",
      "48/55 [=========================>....] - ETA: 0s - loss: 0.1597 - acc: 0.9596\n",
      "Epoch 16: saving model to /home/fizzer/cnn_trainer/letter_model/cps/\n",
      "55/55 [==============================] - 0s 4ms/step - loss: 0.1637 - acc: 0.9578 - val_loss: 0.3213 - val_acc: 0.9182\n",
      "Epoch 17/60\n",
      "50/55 [==========================>...] - ETA: 0s - loss: 0.1569 - acc: 0.9625\n",
      "Epoch 17: saving model to /home/fizzer/cnn_trainer/letter_model/cps/\n",
      "55/55 [==============================] - 0s 4ms/step - loss: 0.1573 - acc: 0.9612 - val_loss: 0.2669 - val_acc: 0.9364\n",
      "Epoch 18/60\n",
      "49/55 [=========================>....] - ETA: 0s - loss: 0.1248 - acc: 0.9668\n",
      "Epoch 18: saving model to /home/fizzer/cnn_trainer/letter_model/cps/\n",
      "55/55 [==============================] - 0s 4ms/step - loss: 0.1151 - acc: 0.9703 - val_loss: 0.3413 - val_acc: 0.9364\n",
      "Epoch 19/60\n",
      "47/55 [========================>.....] - ETA: 0s - loss: 0.1395 - acc: 0.9588\n",
      "Epoch 19: saving model to /home/fizzer/cnn_trainer/letter_model/cps/\n",
      "55/55 [==============================] - 0s 4ms/step - loss: 0.1246 - acc: 0.9635 - val_loss: 0.2844 - val_acc: 0.9364\n",
      "Epoch 20/60\n",
      "49/55 [=========================>....] - ETA: 0s - loss: 0.1327 - acc: 0.9617\n",
      "Epoch 20: saving model to /home/fizzer/cnn_trainer/letter_model/cps/\n",
      "55/55 [==============================] - 0s 4ms/step - loss: 0.1367 - acc: 0.9623 - val_loss: 0.2807 - val_acc: 0.9409\n",
      "Epoch 21/60\n",
      "47/55 [========================>.....] - ETA: 0s - loss: 0.0991 - acc: 0.9694\n",
      "Epoch 21: saving model to /home/fizzer/cnn_trainer/letter_model/cps/\n",
      "55/55 [==============================] - 0s 4ms/step - loss: 0.1056 - acc: 0.9680 - val_loss: 0.3463 - val_acc: 0.9364\n",
      "Epoch 22/60\n",
      "48/55 [=========================>....] - ETA: 0s - loss: 0.1048 - acc: 0.9661\n",
      "Epoch 22: saving model to /home/fizzer/cnn_trainer/letter_model/cps/\n",
      "55/55 [==============================] - 0s 4ms/step - loss: 0.1110 - acc: 0.9623 - val_loss: 0.3190 - val_acc: 0.9364\n",
      "Epoch 23/60\n",
      "47/55 [========================>.....] - ETA: 0s - loss: 0.0981 - acc: 0.9761\n",
      "Epoch 23: saving model to /home/fizzer/cnn_trainer/letter_model/cps/\n",
      "55/55 [==============================] - 0s 4ms/step - loss: 0.1062 - acc: 0.9715 - val_loss: 0.2993 - val_acc: 0.9227\n",
      "Epoch 24/60\n",
      "48/55 [=========================>....] - ETA: 0s - loss: 0.1094 - acc: 0.9740\n",
      "Epoch 24: saving model to /home/fizzer/cnn_trainer/letter_model/cps/\n",
      "55/55 [==============================] - 0s 4ms/step - loss: 0.1023 - acc: 0.9760 - val_loss: 0.3981 - val_acc: 0.9364\n",
      "Epoch 25/60\n",
      "47/55 [========================>.....] - ETA: 0s - loss: 0.0953 - acc: 0.9734\n",
      "Epoch 25: saving model to /home/fizzer/cnn_trainer/letter_model/cps/\n",
      "55/55 [==============================] - 0s 4ms/step - loss: 0.0971 - acc: 0.9737 - val_loss: 0.3039 - val_acc: 0.9318\n",
      "Epoch 26/60\n",
      "48/55 [=========================>....] - ETA: 0s - loss: 0.0854 - acc: 0.9688\n",
      "Epoch 26: saving model to /home/fizzer/cnn_trainer/letter_model/cps/\n",
      "55/55 [==============================] - 0s 4ms/step - loss: 0.0935 - acc: 0.9669 - val_loss: 0.2870 - val_acc: 0.9364\n",
      "Epoch 27/60\n",
      "49/55 [=========================>....] - ETA: 0s - loss: 0.0681 - acc: 0.9758\n",
      "Epoch 27: saving model to /home/fizzer/cnn_trainer/letter_model/cps/\n",
      "55/55 [==============================] - 0s 4ms/step - loss: 0.0658 - acc: 0.9760 - val_loss: 0.4160 - val_acc: 0.9136\n",
      "Epoch 28/60\n",
      "46/55 [========================>.....] - ETA: 0s - loss: 0.0750 - acc: 0.9783\n",
      "Epoch 28: saving model to /home/fizzer/cnn_trainer/letter_model/cps/\n",
      "55/55 [==============================] - 0s 4ms/step - loss: 0.0796 - acc: 0.9772 - val_loss: 0.3118 - val_acc: 0.9455\n",
      "Epoch 29/60\n",
      "48/55 [=========================>....] - ETA: 0s - loss: 0.0663 - acc: 0.9818\n",
      "Epoch 29: saving model to /home/fizzer/cnn_trainer/letter_model/cps/\n",
      "55/55 [==============================] - 0s 4ms/step - loss: 0.0613 - acc: 0.9829 - val_loss: 0.4687 - val_acc: 0.9227\n",
      "Epoch 30/60\n",
      "49/55 [=========================>....] - ETA: 0s - loss: 0.0814 - acc: 0.9783\n",
      "Epoch 30: saving model to /home/fizzer/cnn_trainer/letter_model/cps/\n",
      "55/55 [==============================] - 0s 4ms/step - loss: 0.0889 - acc: 0.9772 - val_loss: 0.2572 - val_acc: 0.9318\n",
      "Epoch 31/60\n",
      "49/55 [=========================>....] - ETA: 0s - loss: 0.0551 - acc: 0.9834\n",
      "Epoch 31: saving model to /home/fizzer/cnn_trainer/letter_model/cps/\n",
      "55/55 [==============================] - 0s 4ms/step - loss: 0.0596 - acc: 0.9817 - val_loss: 0.2955 - val_acc: 0.9409\n",
      "Epoch 32/60\n",
      "47/55 [========================>.....] - ETA: 0s - loss: 0.0589 - acc: 0.9761\n",
      "Epoch 32: saving model to /home/fizzer/cnn_trainer/letter_model/cps/\n",
      "55/55 [==============================] - 0s 4ms/step - loss: 0.0627 - acc: 0.9772 - val_loss: 0.3378 - val_acc: 0.9364\n",
      "Epoch 33/60\n",
      "49/55 [=========================>....] - ETA: 0s - loss: 0.0462 - acc: 0.9885\n",
      "Epoch 33: saving model to /home/fizzer/cnn_trainer/letter_model/cps/\n",
      "55/55 [==============================] - 0s 4ms/step - loss: 0.0577 - acc: 0.9863 - val_loss: 0.3834 - val_acc: 0.9318\n",
      "Epoch 34/60\n",
      "48/55 [=========================>....] - ETA: 0s - loss: 0.0627 - acc: 0.9831\n",
      "Epoch 34: saving model to /home/fizzer/cnn_trainer/letter_model/cps/\n",
      "55/55 [==============================] - 0s 4ms/step - loss: 0.0574 - acc: 0.9840 - val_loss: 0.3752 - val_acc: 0.9273\n",
      "Epoch 35/60\n",
      "48/55 [=========================>....] - ETA: 0s - loss: 0.0392 - acc: 0.9870\n",
      "Epoch 35: saving model to /home/fizzer/cnn_trainer/letter_model/cps/\n",
      "55/55 [==============================] - 0s 4ms/step - loss: 0.0474 - acc: 0.9852 - val_loss: 0.3547 - val_acc: 0.9409\n",
      "Epoch 36/60\n",
      "47/55 [========================>.....] - ETA: 0s - loss: 0.0549 - acc: 0.9880\n",
      "Epoch 36: saving model to /home/fizzer/cnn_trainer/letter_model/cps/\n",
      "55/55 [==============================] - 0s 4ms/step - loss: 0.0497 - acc: 0.9886 - val_loss: 0.5031 - val_acc: 0.9364\n",
      "Epoch 37/60\n",
      "49/55 [=========================>....] - ETA: 0s - loss: 0.0639 - acc: 0.9821\n",
      "Epoch 37: saving model to /home/fizzer/cnn_trainer/letter_model/cps/\n",
      "55/55 [==============================] - 0s 4ms/step - loss: 0.0585 - acc: 0.9829 - val_loss: 0.3416 - val_acc: 0.9364\n",
      "Epoch 38/60\n",
      "47/55 [========================>.....] - ETA: 0s - loss: 0.0396 - acc: 0.9894\n",
      "Epoch 38: saving model to /home/fizzer/cnn_trainer/letter_model/cps/\n",
      "55/55 [==============================] - 0s 4ms/step - loss: 0.0470 - acc: 0.9863 - val_loss: 0.4073 - val_acc: 0.9364\n",
      "Epoch 39/60\n",
      "48/55 [=========================>....] - ETA: 0s - loss: 0.0376 - acc: 0.9883\n",
      "Epoch 39: saving model to /home/fizzer/cnn_trainer/letter_model/cps/\n",
      "55/55 [==============================] - 0s 4ms/step - loss: 0.0344 - acc: 0.9897 - val_loss: 0.5579 - val_acc: 0.9182\n",
      "Epoch 40/60\n",
      "47/55 [========================>.....] - ETA: 0s - loss: 0.0565 - acc: 0.9827\n",
      "Epoch 40: saving model to /home/fizzer/cnn_trainer/letter_model/cps/\n",
      "55/55 [==============================] - 0s 4ms/step - loss: 0.0606 - acc: 0.9829 - val_loss: 0.3453 - val_acc: 0.9455\n",
      "Epoch 41/60\n",
      "48/55 [=========================>....] - ETA: 0s - loss: 0.0231 - acc: 0.9948\n",
      "Epoch 41: saving model to /home/fizzer/cnn_trainer/letter_model/cps/\n",
      "55/55 [==============================] - 0s 4ms/step - loss: 0.0273 - acc: 0.9932 - val_loss: 0.5079 - val_acc: 0.9318\n",
      "Epoch 42/60\n",
      "48/55 [=========================>....] - ETA: 0s - loss: 0.0302 - acc: 0.9922  \n",
      "Epoch 42: saving model to /home/fizzer/cnn_trainer/letter_model/cps/\n",
      "55/55 [==============================] - 0s 4ms/step - loss: 0.0268 - acc: 0.9932 - val_loss: 0.4262 - val_acc: 0.9409\n",
      "Epoch 43/60\n",
      "48/55 [=========================>....] - ETA: 0s - loss: 0.0231 - acc: 0.9922\n",
      "Epoch 43: saving model to /home/fizzer/cnn_trainer/letter_model/cps/\n",
      "55/55 [==============================] - 2s 39ms/step - loss: 0.0222 - acc: 0.9920 - val_loss: 0.5286 - val_acc: 0.9136\n",
      "Epoch 44/60\n",
      "49/55 [=========================>....] - ETA: 0s - loss: 0.0348 - acc: 0.9898  \n",
      "Epoch 44: saving model to /home/fizzer/cnn_trainer/letter_model/cps/\n",
      "55/55 [==============================] - 0s 4ms/step - loss: 0.0324 - acc: 0.9909 - val_loss: 0.4624 - val_acc: 0.9318\n",
      "Epoch 45/60\n",
      "48/55 [=========================>....] - ETA: 0s - loss: 0.0148 - acc: 0.9935\n",
      "Epoch 45: saving model to /home/fizzer/cnn_trainer/letter_model/cps/\n",
      "55/55 [==============================] - 0s 4ms/step - loss: 0.0138 - acc: 0.9943 - val_loss: 0.5428 - val_acc: 0.9364\n",
      "Epoch 46/60\n",
      "50/55 [==========================>...] - ETA: 0s - loss: 0.0217 - acc: 0.9962  \n",
      "Epoch 46: saving model to /home/fizzer/cnn_trainer/letter_model/cps/\n",
      "55/55 [==============================] - 0s 4ms/step - loss: 0.0200 - acc: 0.9966 - val_loss: 0.6532 - val_acc: 0.9182\n",
      "Epoch 47/60\n",
      "49/55 [=========================>....] - ETA: 0s - loss: 0.0440 - acc: 0.9860  \n",
      "Epoch 47: saving model to /home/fizzer/cnn_trainer/letter_model/cps/\n",
      "55/55 [==============================] - 0s 4ms/step - loss: 0.0433 - acc: 0.9852 - val_loss: 0.6042 - val_acc: 0.9318\n",
      "Epoch 48/60\n",
      "48/55 [=========================>....] - ETA: 0s - loss: 0.0546 - acc: 0.9909\n",
      "Epoch 48: saving model to /home/fizzer/cnn_trainer/letter_model/cps/\n",
      "55/55 [==============================] - 0s 4ms/step - loss: 0.0480 - acc: 0.9920 - val_loss: 0.4296 - val_acc: 0.9364\n",
      "Epoch 49/60\n",
      "51/55 [==========================>...] - ETA: 0s - loss: 0.0258 - acc: 0.9939   \n",
      "Epoch 49: saving model to /home/fizzer/cnn_trainer/letter_model/cps/\n",
      "55/55 [==============================] - 0s 4ms/step - loss: 0.0277 - acc: 0.9932 - val_loss: 0.6672 - val_acc: 0.9273\n",
      "Epoch 50/60\n",
      "48/55 [=========================>....] - ETA: 0s - loss: 0.0128 - acc: 0.9948\n",
      "Epoch 50: saving model to /home/fizzer/cnn_trainer/letter_model/cps/\n",
      "55/55 [==============================] - 0s 4ms/step - loss: 0.0225 - acc: 0.9932 - val_loss: 0.4872 - val_acc: 0.9227\n",
      "Epoch 51/60\n",
      "48/55 [=========================>....] - ETA: 0s - loss: 0.0341 - acc: 0.9909\n",
      "Epoch 51: saving model to /home/fizzer/cnn_trainer/letter_model/cps/\n",
      "55/55 [==============================] - 0s 4ms/step - loss: 0.0315 - acc: 0.9909 - val_loss: 0.5013 - val_acc: 0.9318\n",
      "Epoch 52/60\n",
      "49/55 [=========================>....] - ETA: 0s - loss: 0.0424 - acc: 0.9872  \n",
      "Epoch 52: saving model to /home/fizzer/cnn_trainer/letter_model/cps/\n",
      "55/55 [==============================] - 0s 4ms/step - loss: 0.0434 - acc: 0.9874 - val_loss: 0.3872 - val_acc: 0.9318\n",
      "Epoch 53/60\n",
      "49/55 [=========================>....] - ETA: 0s - loss: 0.0163 - acc: 0.9962\n",
      "Epoch 53: saving model to /home/fizzer/cnn_trainer/letter_model/cps/\n",
      "55/55 [==============================] - 0s 4ms/step - loss: 0.0146 - acc: 0.9966 - val_loss: 0.3927 - val_acc: 0.9364\n",
      "Epoch 54/60\n",
      "47/55 [========================>.....] - ETA: 0s - loss: 0.0165 - acc: 0.9934\n",
      "Epoch 54: saving model to /home/fizzer/cnn_trainer/letter_model/cps/\n",
      "55/55 [==============================] - 0s 4ms/step - loss: 0.0205 - acc: 0.9920 - val_loss: 0.5585 - val_acc: 0.9409\n",
      "Epoch 55/60\n",
      "48/55 [=========================>....] - ETA: 0s - loss: 0.0045 - acc: 0.9987  \n",
      "Epoch 55: saving model to /home/fizzer/cnn_trainer/letter_model/cps/\n",
      "55/55 [==============================] - 0s 4ms/step - loss: 0.0046 - acc: 0.9989 - val_loss: 0.6940 - val_acc: 0.9273\n",
      "Epoch 56/60\n",
      "47/55 [========================>.....] - ETA: 0s - loss: 0.0340 - acc: 0.9880\n",
      "Epoch 56: saving model to /home/fizzer/cnn_trainer/letter_model/cps/\n",
      "55/55 [==============================] - 0s 4ms/step - loss: 0.0502 - acc: 0.9874 - val_loss: 0.4801 - val_acc: 0.9364\n",
      "Epoch 57/60\n",
      "48/55 [=========================>....] - ETA: 0s - loss: 0.0280 - acc: 0.9948\n",
      "Epoch 57: saving model to /home/fizzer/cnn_trainer/letter_model/cps/\n",
      "55/55 [==============================] - 0s 4ms/step - loss: 0.0255 - acc: 0.9954 - val_loss: 0.4890 - val_acc: 0.9318\n",
      "Epoch 58/60\n",
      "51/55 [==========================>...] - ETA: 0s - loss: 0.0116 - acc: 0.9951\n",
      "Epoch 58: saving model to /home/fizzer/cnn_trainer/letter_model/cps/\n",
      "55/55 [==============================] - 0s 4ms/step - loss: 0.0108 - acc: 0.9954 - val_loss: 0.6440 - val_acc: 0.9364\n",
      "Epoch 59/60\n",
      "49/55 [=========================>....] - ETA: 0s - loss: 0.0238 - acc: 0.9962   \n",
      "Epoch 59: saving model to /home/fizzer/cnn_trainer/letter_model/cps/\n",
      "55/55 [==============================] - 0s 4ms/step - loss: 0.0214 - acc: 0.9966 - val_loss: 0.4942 - val_acc: 0.9455\n",
      "Epoch 60/60\n",
      "49/55 [=========================>....] - ETA: 0s - loss: 0.0266 - acc: 0.9936  \n",
      "Epoch 60: saving model to /home/fizzer/cnn_trainer/letter_model/cps/\n",
      "55/55 [==============================] - 0s 4ms/step - loss: 0.0239 - acc: 0.9943 - val_loss: 0.6197 - val_acc: 0.9318\n"
>>>>>>> ea985da39bb5fcfca61ed7342dc16dda6cb3501f
     ]
    }
   ],
   "source": [
    "history_conv = conv_model.fit(x_dataset, y_dataset, \n",
    "                              validation_split=VALIDATION_SPLIT, \n",
<<<<<<< HEAD
    "                              epochs=10, \n",
=======
    "                              epochs=60, \n",
>>>>>>> ea985da39bb5fcfca61ed7342dc16dda6cb3501f
    "                              batch_size=16,\n",
    "                              callbacks=[cp_callback])"
   ]
  },
  {
   "cell_type": "code",
<<<<<<< HEAD
   "execution_count": 76,
=======
   "execution_count": 97,
>>>>>>> ea985da39bb5fcfca61ed7342dc16dda6cb3501f
   "metadata": {},
   "outputs": [
    {
     "name": "stderr",
     "output_type": "stream",
     "text": [
      "WARNING:absl:Found untraced functions such as _jit_compiled_convolution_op, _jit_compiled_convolution_op, _jit_compiled_convolution_op, _jit_compiled_convolution_op while saving (showing 4 of 4). These functions will not be directly callable after loading.\n"
     ]
    },
    {
     "name": "stdout",
     "output_type": "stream",
     "text": [
<<<<<<< HEAD
      "INFO:tensorflow:Assets written to: /home/fizzer/cnn_trainer/dst_model/save/assets\n"
=======
      "INFO:tensorflow:Assets written to: /home/fizzer/cnn_trainer/letter_model/save/assets\n"
>>>>>>> ea985da39bb5fcfca61ed7342dc16dda6cb3501f
     ]
    },
    {
     "name": "stderr",
     "output_type": "stream",
     "text": [
<<<<<<< HEAD
      "INFO:tensorflow:Assets written to: /home/fizzer/cnn_trainer/dst_model/save/assets\n"
=======
      "INFO:tensorflow:Assets written to: /home/fizzer/cnn_trainer/letter_model/save/assets\n"
>>>>>>> ea985da39bb5fcfca61ed7342dc16dda6cb3501f
     ]
    }
   ],
   "source": [
    "conv_model.save(SAVE_PATH)"
   ]
  },
  {
   "cell_type": "code",
<<<<<<< HEAD
   "execution_count": 77,
=======
   "execution_count": 98,
>>>>>>> ea985da39bb5fcfca61ed7342dc16dda6cb3501f
   "metadata": {},
   "outputs": [
    {
     "data": {
<<<<<<< HEAD
      "image/png": "iVBORw0KGgoAAAANSUhEUgAAAjcAAAHFCAYAAAAOmtghAAAAOXRFWHRTb2Z0d2FyZQBNYXRwbG90bGliIHZlcnNpb24zLjUuMywgaHR0cHM6Ly9tYXRwbG90bGliLm9yZy/NK7nSAAAACXBIWXMAAA9hAAAPYQGoP6dpAABbUUlEQVR4nO3deVxU9f4G8GcYYIZ9FQRFQQHFDRHMBK3MLVRSy7CrRbbcsvSakprLzcpMyrT8lYFWprdbpqVm3rQUc1/KDdSExBVUNnFhlQFmzu+Pw4yMLCIwHGbmeb/u3JjDWT4jyzx8z3eRCYIggIiIiMhEWEhdABEREVFTYrghIiIik8JwQ0RERCaF4YaIiIhMCsMNERERmRSGGyIiIjIpDDdERERkUhhuiIiIyKQw3BAREZFJYbghohbv0qVLkMlkWL169X0fu3v3bshkMuzevbtJ9iOilo/hhoiIiEwKww0RERGZFIYbIrqnd955BzKZDCdPnsRTTz0FJycnuLq6IjY2FhUVFThz5gwee+wxODg4wNfXF4sWLap2joyMDDzzzDPw8PCAQqFAUFAQlixZAo1Go7dfZmYmoqOj4eDgACcnJ4wdOxbZ2dk11nX06FE8/vjjcHV1hVKpREhICH744Ycmfe2bN29G3759YWtrCwcHBwwePBiHDh3S2+fatWt4+eWX4ePjA4VCgVatWiEiIgI7duzQ7ZOUlIQRI0boXr+3tzeGDx+OK1euNGm9RARYSl0AERmP6OhoPPPMM3jllVeQmJiIRYsWoby8HDt27MBrr72G6dOnY82aNXjzzTfh7++PJ554AoD45h8eHo6ysjK899578PX1xS+//ILp06fj/PnziI+PBwDcvn0bgwYNQmZmJuLi4hAYGIgtW7Zg7Nix1WrZtWsXHnvsMfTp0wfLly+Hk5MT1q5di7Fjx6KkpAQTJkxo9Otds2YNxo8fjyFDhuD777+HSqXCokWL8Mgjj+D3339Hv379AADPPvssjh8/jvfffx+BgYG4desWjh8/juvXrwMAiouLMXjwYPj5+eHzzz+Hp6cnsrOzsWvXLhQWFja6TiK6i0BEdA9vv/22AEBYsmSJ3vaePXsKAISNGzfqtpWXlwutWrUSnnjiCd22WbNmCQCEP//8U+/4V199VZDJZMKZM2cEQRCEhIQEAYDw888/6+33z3/+UwAgrFq1Sretc+fOQkhIiFBeXq6374gRIwQvLy9BrVYLgiAIu3btEgAIu3btqvM13r2fWq0WvL29he7du+vOJQiCUFhYKHh4eAjh4eG6bfb29sLUqVNrPffRo0cFAMKmTZvqrIGImgZvSxFRvY0YMULveVBQEGQyGSIjI3XbLC0t4e/vj/T0dN22nTt3okuXLnjggQf0jp8wYQIEQcDOnTsBiK0xDg4OePzxx/X2GzdunN7zc+fO4e+//8b48eMBABUVFbrHsGHDkJWVhTNnzjTqtZ45cwaZmZl49tlnYWFx51elvb09nnzySfzxxx8oKSkBADzwwANYvXo1FixYgD/++APl5eV65/L394eLiwvefPNNLF++HCkpKY2qjYjqxnBDRPXm6uqq99za2hq2trZQKpXVtpeWluqeX79+HV5eXtXO5+3trfu89r+enp7V9mvdurXe85ycHADA9OnTYWVlpfd47bXXAAB5eXn3+/L0aGuqrW6NRoObN28CANatW4fnnnsOX331Ffr27QtXV1fExMTo+go5OTlhz5496NmzJ+bMmYOuXbvC29sbb7/9drUgRESNxz43RGRwbm5uyMrKqrY9MzMTAODu7q7b7/Dhw9X2u7tDsXb/2bNn6/r13K1Tp06NrhlArXVbWFjAxcVFV8/SpUuxdOlSZGRkYPPmzZg1axZyc3Px22+/AQC6d++OtWvXQhAEnDx5EqtXr8b8+fNhY2ODWbNmNapWItLHlhsiMriBAwciJSUFx48f19v+zTffQCaTYcCAAQCAAQMGoLCwEJs3b9bbb82aNXrPO3XqhICAAJw4cQJhYWE1PhwcHBpVc6dOndCmTRusWbMGgiDothcXF2PDhg26EVR3a9euHSZPnozBgwdXe70AIJPJEBwcjE8++QTOzs417kNEjcOWGyIyuGnTpuGbb77B8OHDMX/+fLRv3x5btmxBfHw8Xn31VQQGBgIAYmJi8MknnyAmJgbvv/8+AgICsHXrVmzbtq3aOVesWIHIyEgMHToUEyZMQJs2bXDjxg2kpqbi+PHj+PHHHxtVs4WFBRYtWoTx48djxIgReOWVV6BSqfDRRx/h1q1b+OCDDwAA+fn5GDBgAMaNG4fOnTvDwcEBR44cwW+//aZrVfrll18QHx+PUaNGoUOHDhAEARs3bsStW7cwePDgRtVJRNUx3BCRwbVq1QoHDx7E7NmzMXv2bBQUFKBDhw5YtGgRYmNjdfvZ2tpi586deP311zFr1izIZDIMGTIEa9euRXh4uN45BwwYgMOHD+P999/H1KlTcfPmTbi5uaFLly6Ijo5ukrrHjRsHOzs7xMXFYezYsZDL5XjwwQexa9cuXT1KpRJ9+vTBf//7X1y6dAnl5eVo164d3nzzTcycORMAEBAQAGdnZyxatAiZmZmwtrZGp06dsHr1ajz33HNNUisR3SETqra3EhERERk59rkhIiIik8JwQ0RERCaF4YaIiIhMCsMNERERmRSGGyIiIjIpDDdERERkUsxunhuNRoPMzEw4ODhAJpNJXQ4RERHVgyAIKCwshLe3t95itjUxu3CTmZkJHx8fqcsgIiKiBrh8+TLatm1b5z5mF260681cvnwZjo6OEldDRERE9VFQUAAfH596rRtnduFGeyvK0dGR4YaIiMjI1KdLCTsUExERkUlhuCEiIiKTwnBDREREJsXs+tzUl1qtRnl5udRl0H2ysrKCXC6XugwiIpIQw81dBEFAdnY2bt26JXUp1EDOzs5o3bo15zEiIjJTDDd30QYbDw8P2Nra8g3SiAiCgJKSEuTm5gIAvLy8JK6IiIikwHBThVqt1gUbNzc3qcuhBrCxsQEA5ObmwsPDg7eoiIjMEDsUV6HtY2NraytxJdQY2q8f+0wREZknhpsa8FaUcePXj4jIvDHcEBERkUlhuKEa+fr6YunSpZKfg4iI6H6xQ7GJeOSRR9CzZ88mCxNHjhyBnZ1dk5yLiIioOTHcNKEKjQblagE2Vi1zhI4gCFCr1bC0vPeXvVWrVs1QERERUdPjbakmUlquRkpmAS5cK4IgCM167QkTJmDPnj34v//7P8hkMshkMly6dAm7d++GTCbDtm3bEBYWBoVCgX379uH8+fMYOXIkPD09YW9vj969e2PHjh1657z7lpJMJsNXX32F0aNHw9bWFgEBAdi8efN91ZmRkYGRI0fC3t4ejo6OiI6ORk5Oju7zJ06cwIABA+Dg4ABHR0eEhobi6NGjAID09HRERUXBxcUFdnZ26Nq1K7Zu3drwfzQiIjJZbLm5B0EQcLtcfc/9NBoBqnI1BAAFpeWwkjc+N9pYyes18uf//u//kJaWhm7dumH+/PkAxJaXS5cuAQBmzpyJxYsXo0OHDnB2dsaVK1cwbNgwLFiwAEqlEv/5z38QFRWFM2fOoF27drVe591338WiRYvw0Ucf4bPPPsP48eORnp4OV1fXe9YoCAJGjRoFOzs77NmzBxUVFXjttdcwduxY7N69GwAwfvx4hISEICEhAXK5HMnJybCysgIATJo0CWVlZdi7dy/s7OyQkpICe3v7e16XiIjMj6ThZu/evfjoo49w7NgxZGVl4aeffsKoUaPqPEalUmH+/Pn49ttvkZ2djbZt22Lu3Ll44YUXDFLj7XI1uszbZpBz30vK/KGwtb73l8jJyQnW1tawtbVF69atq31+/vz5GDx4sO65m5sbgoODdc8XLFiAn376CZs3b8bkyZNrvc6ECRPwj3/8AwCwcOFCfPbZZzh8+DAee+yxe9a4Y8cOnDx5EhcvXoSPjw8A4L///S+6du2KI0eOoHfv3sjIyMCMGTPQuXNnAEBAQIDu+IyMDDz55JPo3r07AKBDhw73vCYREZknSW9LFRcXIzg4GMuWLav3MdHR0fj999+xcuVKnDlzBt9//73uzZBqFhYWpve8uLgYM2fORJcuXeDs7Ax7e3v8/fffyMjIqPM8PXr00H1sZ2cHBwcH3VIH95KamgofHx9dsAGgu35qaioAIDY2Fi+99BIGDRqEDz74AOfPn9ftO2XKFCxYsAARERF4++23cfLkyXpdl4iIzI+kLTeRkZGIjIys9/6//fYb9uzZgwsXLuhuhfj6+hqoOpGNlRwp84fWa9+cfBWuFZXCxdYabVxsmuTaTeHuUU8zZszAtm3bsHjxYvj7+8PGxgZjxoxBWVlZnefR3iLSkslk0Gg09apBEIQab7FV3f7OO+9g3Lhx2LJlC3799Ve8/fbbWLt2LUaPHo2XXnoJQ4cOxZYtW7B9+3bExcVhyZIl+Ne//lWv6xMRkfkwqg7FmzdvRlhYGBYtWoQ2bdogMDAQ06dPx+3bt2s9RqVSoaCgQO9xP2QyGWytLev1cLGzgtJKDov7OKaux/3MtGttbQ21+t59gwBg3759mDBhAkaPHo3u3bujdevWuv45htKlSxdkZGTg8uXLum0pKSnIz89HUFCQbltgYCCmTZuG7du344knnsCqVat0n/Px8cHEiROxceNGvPHGG/jyyy8NWjMRERknowo3Fy5cwP79+/HXX3/hp59+wtKlS7F+/XpMmjSp1mPi4uLg5OSke1S9LdLUFJZiS0tphbrZR0z5+vrizz//xKVLl5CXl1dni4q/vz82btyI5ORknDhxAuPGjat3C0xDDRo0CD169MD48eNx/PhxHD58GDExMXj44YcRFhaG27dvY/Lkydi9ezfS09Nx4MABHDlyRBd8pk6dim3btuHixYs4fvw4du7cqReKiIiItIwq3Gg0GshkMnz33Xd44IEHMGzYMHz88cdYvXp1ra03s2fPRn5+vu5RteWgqSksLSADoNYIqNA0b7iZPn065HI5unTpglatWtXZf+aTTz6Bi4sLwsPDERUVhaFDh6JXr14GrU8mk2HTpk1wcXHBQw89hEGDBqFDhw5Yt24dAEAul+P69euIiYlBYGAgoqOjERkZiXfffReAuGL7pEmTEBQUhMceewydOnVCfHy8QWsmIiLjJBOau4mhFjKZ7J6jpZ577jkcOHAA586d021LTU1Fly5dkJaWpje6pjYFBQVwcnJCfn4+HB0d9T5XWlqKixcvws/PD0qlskGv40x2IVQVanRwt4O90ureB1CTa4qvIxERtSx1vX/fzahabiIiIpCZmYmioiLdtrS0NFhYWKBt27YSVnaHwlL8Jy2tMOxtHiIiIqqZpOGmqKgIycnJSE5OBgBcvHgRycnJulsqs2fPRkxMjG7/cePGwc3NDc8//zxSUlKwd+9ezJgxAy+88AJsbBo/OqkpKK0qw009Jv4jIiKipidpuDl69ChCQkIQEhICQJznJCQkBPPmzQMAZGVl6fUdsbe3R2JiIm7duoWwsDCMHz8eUVFR+PTTTyWpvyaKyuHbqnK23BAREUlB0nluHnnkkTpHFa1evbrats6dOyMxMdGAVTWOUndbSl3r3C5ERERkOEbV58YYKCzlko2YIiIiIoabJmdhIYN1ZeuNiv1uiIiImh3DjQHcmcyP/W6IiIiaG8ONAWhHTLHlhoiIqPkx3BiAdsRUKUdMERERNTuGGwO4e8SUsfD19cXSpUtr/fyECRPqnEGaiIioJWC4MQBtnxuOmCIiImp+DDcGwBFTRERE0mG4MRBlM46YWrFiBdq0aQONRv9ajz/+OJ577jkAwPnz5zFy5Eh4enrC3t4evXv3xo4dOxp1XZVKhSlTpsDDwwNKpRL9+vXDkSNHdJ+/efMmxo8fj1atWsHGxgYBAQFYtWoVAKCsrAyTJ0+Gl5cXlEolfH19ERcX16h6iIiIAIabexMEoKz4vh9K3IasvARlJYUNOh5lxeK16+Gpp55CXl4edu3apdt28+ZNbNu2DePHjwcgruM1bNgw7NixA0lJSRg6dCiioqL0lre4XzNnzsSGDRvwn//8B8ePH4e/vz+GDh2KGzduAADeeustpKSk4Ndff0VqaioSEhLg7u4OAPj000+xefNm/PDDDzhz5gy+/fZb+Pr6NrgWIiIiLUmXXzAK5SXAQu/7Pqx15aNR5mQC1nb33M3V1RWPPfYY1qxZg4EDBwIAfvzxR7i6uuqeBwcHIzg4WHfMggUL8NNPP2Hz5s2YPHnyfZdWXFyMhIQErF69GpGRkQCAL7/8EomJiVi5ciVmzJiBjIwMhISEICwsDAD0wktGRgYCAgLQr18/yGQytG/f/r5rICIiqglbbkzE+PHjsWHDBqhUKgDAd999h6effhpyuXh7rLi4GDNnzkSXLl3g7OwMe3t7/P333w1uuTl//jzKy8sRERGh22ZlZYUHHngAqampAIBXX30Va9euRc+ePTFz5kwcPHhQt++ECROQnJyMTp06YcqUKdi+fXtDXzoREZEettzci5Wt2IJynzQaAaezCgAAnVs7wEregBxpZVvvXaOioqDRaLBlyxb07t0b+/btw8cff6z7/IwZM7Bt2zYsXrwY/v7+sLGxwZgxY1BWVnb/dQG6Ie53LwxadbHQyMhIpKenY8uWLdixYwcGDhyISZMmYfHixejVqxcuXryIX3/9FTt27EB0dDQGDRqE9evXN6geIiIiLYabe5HJ6nVr6G4WAKxsNCir0EAls4GVtWH/qW1sbPDEE0/gu+++w7lz5xAYGIjQ0FDd5/ft24cJEyZg9OjRAMQ+OJcuXWrw9fz9/WFtbY39+/dj3LhxAIDy8nIcPXoUU6dO1e3XqlUrTJgwARMmTED//v0xY8YMLF68GADg6OiIsWPHYuzYsRgzZgwee+wx3LhxA66urg2ui4iIiOHGgJSWcpRVaFBaoYZ9M/xTjx8/HlFRUTh9+jSeeeYZvc/5+/tj48aNiIqKgkwmw1tvvVVtdNX9sLOzw6uvvooZM2bA1dUV7dq1w6JFi1BSUoIXX3wRADBv3jyEhoaia9euUKlU+OWXXxAUFAQA+OSTT+Dl5YWePXvCwsICP/74I1q3bg1nZ+cG10RERAQw3BiUwsoCKAVUzbQMw6OPPgpXV1ecOXNG15qi9cknn+CFF15AeHg43N3d8eabb6KgoKBR1/vggw+g0Wjw7LPPorCwEGFhYdi2bRtcXFwAANbW1pg9ezYuXboEGxsb9O/fH2vXrgUA2Nvb48MPP8TZs2chl8vRu3dvbN26FRYW7AZGRESNIxOMaX2AJlBQUAAnJyfk5+fD0dFR73OlpaW4ePEi/Pz8oFQqG32tm8VluHyzBHYKS3RsZd/o81H9NPXXkYiIpFfX+/fd+GeyASl0q4NzAU0iIqLmwnBjQNpZiis0GlSoGXCIiIiaA8ONAVVdY6o5lmEgIiIihhuD07becAFNIiKi5sFwU4Om7GOt7XdTyn43zcbM+sgTEdFdGG6qsLKyAgCUlJQ02TnvrA7Olpvmov36ab+eRERkXjjPTRVyuRzOzs7Izc0FANja2lZbXuC+qSsgVJThtqYCpaX85zYkQRBQUlKC3NxcODs769bVIiIi88J327u0bi2u5a0NOI2lEQTk3ioVnxQqIbdoZFiie3J2dtZ9HYmIyPww3NxFJpPBy8sLHh4eKC8vb5JzvvXlH8gpKMWS6GD09HFpknNSzaysrNhiQ0Rk5hhuaiGXy5vsTdLZwQ7Hrxbj7PUyPBjAGXOJiIgMiR2Km0GAp7j0wtmcQokrISIiMn0MN80gwMMBAHA2p0jiSoiIiEwfw00zCNS23OSy5YaIiMjQJA03e/fuRVRUFLy9vSGTybBp06Z6H3vgwAFYWlqiZ8+eBquvqWhXBM8rKsON4jKJqyEiIjJtkoab4uJiBAcHY9myZfd1XH5+PmJiYjBw4EADVda07BSWaOtiA4D9boiIiAxN0tFSkZGRiIyMvO/jXnnlFYwbNw5yufy+WnukFOBhjys3b+NsbhH6dHCTuhwiIiKTZXR9blatWoXz58/j7bfflrqU+xLoqe1UzJYbIiIiQzKqeW7Onj2LWbNmYd++fbC0rF/pKpUKKpVK97ygoMBQ5dXJ30PbqZgjpoiIiAzJaFpu1Go1xo0bh3fffReBgYH1Pi4uLg5OTk66h4+PjwGrrJ225SaNw8GJiIgMSiYIgiB1EYC47MFPP/2EUaNG1fj5W7duwcXFRW/WYI1GA0EQIJfLsX37djz66KPVjqup5cbHxwf5+flwdHRs8tdRm2JVBbq+vQ0AkPTWYLjYWTfbtYmIiIxdQUEBnJyc6vX+bTS3pRwdHXHq1Cm9bfHx8di5cyfWr18PPz+/Go9TKBRQKBTNUWKd7BSWaONsg6u3xE7FD/i5Sl0SERGRSZI03BQVFeHcuXO65xcvXkRycjJcXV3Rrl07zJ49G1evXsU333wDCwsLdOvWTe94Dw8PKJXKattbqgBP+8pwU8hwQ0REZCCS9rk5evQoQkJCEBISAgCIjY1FSEgI5s2bBwDIyspCRkaGlCU2qTsjptjvhoiIyFBaTJ+b5nI/9+ya2g9HL2Pm+pOI8HfDdy892KzXJiIiMmb38/5tNKOlTAFHTBERERkew00z0s51c61QhVslXGOKiIjIEBhumpF95YgpgJP5ERERGQrDTTPTzVTMW1NEREQGwXDTzAI9xXCTxjWmiIiIDILhppkFeFQOB89luCEiIjIEhptmFuDJ21JERESGxHDTzLR9bnILVcgvKZe4GiIiItPDcNPMHJRW8HZSAuCtKSIiIkNguJFAACfzIyIiMhiGGwkEaIeDs+WGiIioyTHcSIALaBIRERkOw40E/D3ZckNERGQoDDcS0N6WyilQIf82R0wRERE1JYYbCTgoreBVOWLqHFtviIiImhTDjUQ4YoqIiMgwGG4kEsAFNImIiAyC4UYigexUTEREZBAMNxLx9+BwcCIiIkNguJGIdgHN7IJSjpgiIiJqQgw3EnFUWqG1o3bEFFtviIiImgrDjYS0rTdnc9jvhoiIqKkw3EgoQNvvhi03RERETYbhRkLaEVNpbLkhIiJqMgw3EtLelmKfGyIioqbDcCMh7XDwrPxSFJRyxBQREVFTYLiRkJONFTwdFQDYekNERNRUGG4kFuipncyP/W6IiIiaAsONxPy5xhQREVGTYriRmLblJo23pYiIiJoEw43E7qwOzttSRERETUHScLN3715ERUXB29sbMpkMmzZtqnP/jRs3YvDgwWjVqhUcHR3Rt29fbNu2rXmKNZAAzzsjpgo5YoqIiKjRJA03xcXFCA4OxrJly+q1/969ezF48GBs3boVx44dw4ABAxAVFYWkpCQDV2o4VUdMcaZiIiKixrOU8uKRkZGIjIys9/5Lly7Ve75w4UL8/PPP+N///oeQkJAmrq75BHg4IKdAhXM5RejVzkXqcoiIiIyaUfe50Wg0KCwshKura637qFQqFBQU6D1amgAuw0BERNRkjDrcLFmyBMXFxYiOjq51n7i4ODg5OekePj4+zVhh/XABTSIioqZjtOHm+++/xzvvvIN169bBw8Oj1v1mz56N/Px83ePy5cvNWGX9aBfQ5IgpIiKixpO0z01DrVu3Di+++CJ+/PFHDBo0qM59FQoFFApFM1XWMNqWm8zKEVMOSiuJKyIiIjJeRtdy8/3332PChAlYs2YNhg8fLnU5TcLJ1goeDlxjioiIqClIGm6KioqQnJyM5ORkAMDFixeRnJyMjIwMAOItpZiYGN3+33//PWJiYrBkyRI8+OCDyM7ORnZ2NvLz86Uov0lpOxWz3w0REVHjSBpujh49ipCQEN0w7tjYWISEhGDevHkAgKysLF3QAYAVK1agoqICkyZNgpeXl+7x+uuvS1J/U9J1Kma/GyIiokaRtM/NI488AkEQav386tWr9Z7v3r3bsAVJiC03RERETcPo+tyYKu0CmlwdnIiIqHEYbloI7QKaV2/dRpGqQuJqiIiIjBfDTQvhbGuNVhwxRURE1GgMNy2ItvWGnYqJiIgajuGmBdH1u2HLDRERUYMx3LQg/my5ISIiajSGmxZE23KTxhFTREREDcZw04JUHTFVzBFTREREDcJw04K42FnD3Z4jpoiIiBqD4aaF0Y2YYrghIiJqEIabFibQk52KiYiIGoPhpoXx13UqZrghIiJqCIabFiaQt6WIiIgaheGmhQmobLm5cpMjpoiIiBqC4aaFcbWzhru9NQDg/DW23hAREd0vhpsWKMCDk/kRERE1FMNNCxSgHTGVy07FRERE94vhpgXS9rs5y5YbIiKi+8Zw0wLdmciPLTdERET3i+GmBdIuoHn5xm2UlHHEFBER0f1guGmBXO2s4WZXOWIqt1jiaoiIiIwLw00Lpe1UzJmKiYiI7g/DTQulHQ7OmYqJiIjuD8NNC8UFNImIiBqG4aaF8mfLDRERUYMw3LRQ2pabyzdLcLtMLXE1RERExoPhpoVys1fA1c4agsA1poiIiO4Hw00Lpp3MjyOmiIiI6o/hpgW7s8YUW26IiIjqi+GmBQvUrTHFlhsiIqL6kjTc7N27F1FRUfD29oZMJsOmTZvuecyePXsQGhoKpVKJDh06YPny5YYvVCL+Hmy5ISIiul+Shpvi4mIEBwdj2bJl9dr/4sWLGDZsGPr374+kpCTMmTMHU6ZMwYYNGwxcqTS0LTcZNzhiioiIqL4spbx4ZGQkIiMj673/8uXL0a5dOyxduhQAEBQUhKNHj2Lx4sV48sknDVSldNzsrOFia4WbJeU4f60I3do4SV0SERFRi2dUfW4OHTqEIUOG6G0bOnQojh49ivLy8hqPUalUKCgo0HsYC5lMhgBtv5tc9rshIiKqD6MKN9nZ2fD09NTb5unpiYqKCuTl5dV4TFxcHJycnHQPHx+f5ii1yWiHg5/NYb8bIiKi+jCqcAOIrRlVCYJQ43at2bNnIz8/X/e4fPmywWtsStp+N2kMN0RERPUiaZ+b+9W6dWtkZ2frbcvNzYWlpSXc3NxqPEahUEChUDRHeQaha7nhbSkiIqJ6MaqWm759+yIxMVFv2/bt2xEWFgYrKyuJqjKsgCojpkrLOWKKiIjoXiQNN0VFRUhOTkZycjIAcah3cnIyMjIyAIi3lGJiYnT7T5w4Eenp6YiNjUVqaiq+/vprrFy5EtOnT5ei/Gbhbi+OmBIE4BznuyEiIronScPN0aNHERISgpCQEABAbGwsQkJCMG/ePABAVlaWLugAgJ+fH7Zu3Yrdu3ejZ8+eeO+99/Dpp5+a5DBwLZlMhgAPsfWG4YaIiOjeJO1z88gjj+g6BNdk9erV1bY9/PDDOH78uAGrankCPO1x+NINLqBJRERUD0bV58ZcBXAZBiIionpjuDECXECTiIio/hhujIC/p9hywxFTRERE98ZwYwRa2SvgbGsFjQCcv8ZbU0RERHVhuDEC4ogpsfWGI6aIiIjqxnBjJAJ0yzCw3w0REVFdGG6MBBfQJCIiqh+GGyOhGzHF21JERER1YrgxEtqWm/TrxRwxRUREVAeGGyPRykEBJxtxxNSFa8VSl0NERNRiMdwYiaojps7mslMxERFRbRhujEiAbqZi9rshIiKqDcONEWHLDRER0b0x3BiRQLbcEBER3RPDjREJqFxj6tL1YqgqOGKKiIioJgw3RsTDQQFHpSVHTBEREdWB4caIyGSyO52KOZkfERFRjRhujEygp3YZBnYqJiIiqgnDjZHx92CnYiIiorow3BgZbctNGoeDExER1Yjhxshoh4OnXy/hiCkiIqIaMNwYGQ8HBRyUllBrBFzM44gpIiKiuzUo3PznP//Bli1bdM9nzpwJZ2dnhIeHIz09vcmKo+pkMpmu9SaN/W6IiIiqaVC4WbhwIWxsbAAAhw4dwrJly7Bo0SK4u7tj2rRpTVogVaddhuEcR0wRERFVY9mQgy5fvgx/f38AwKZNmzBmzBi8/PLLiIiIwCOPPNKU9VENAthyQ0REVKsGtdzY29vj+vXrAIDt27dj0KBBAAClUonbt283XXVUIy6gSUREVLsGtdwMHjwYL730EkJCQpCWlobhw4cDAE6fPg1fX9+mrI9qoO1zc6lyxJTCUi5xRURERC1Hg1puPv/8c/Tt2xfXrl3Dhg0b4ObmBgA4duwY/vGPfzRpgVSdp6MCDgpxxNSlvBKpyyEiImpRGtRy4+zsjGXLllXb/u677za6ILo3cY0pexzPuIW0nEJ0au0gdUlEREQtRoNabn777Tfs379f9/zzzz9Hz549MW7cONy8ebPJiqPaBXhwAU0iIqKaNCjczJgxAwUFBQCAU6dO4Y033sCwYcNw4cIFxMbG3te54uPj4efnB6VSidDQUOzbt6/O/b/77jsEBwfD1tYWXl5eeP7553Wdm81JABfQJCIiqlGDws3FixfRpUsXAMCGDRswYsQILFy4EPHx8fj111/rfZ5169Zh6tSpmDt3LpKSktC/f39ERkYiIyOjxv3379+PmJgYvPjiizh9+jR+/PFHHDlyBC+99FJDXoZR0w4HZ8sNERGRvgaFG2tra5SUiB1Zd+zYgSFDhgAAXF1ddS069fHxxx/jxRdfxEsvvYSgoCAsXboUPj4+SEhIqHH/P/74A76+vpgyZQr8/PzQr18/vPLKKzh69GhDXoZR0y6geSmvGGUVGomrISIiajkaFG769euH2NhYvPfeezh8+LBuKHhaWhratm1br3OUlZXh2LFjumCkNWTIEBw8eLDGY8LDw3HlyhVs3boVgiAgJycH69ev113fnLR2VMJBYYkKjYBL17nGFBERkVaDws2yZctgaWmJ9evXIyEhAW3atAEA/Prrr3jsscfqdY68vDyo1Wp4enrqbff09ER2dnaNx4SHh+O7777D2LFjYW1tjdatW8PZ2RmfffZZrddRqVQoKCjQe5gCmUwG/8rWmzT2uyEiItJp0FDwdu3a4Zdffqm2/ZNPPrnvc8lkMr3ngiBU26aVkpKCKVOmYN68eRg6dCiysrIwY8YMTJw4EStXrqzxmLi4OJMdoh7gYY+kjFs4y2UYiIiIdBoUbgBArVZj06ZNSE1NhUwmQ1BQEEaOHAm5vH6z5bq7u0Mul1drpcnNza3WmqMVFxeHiIgIzJgxAwDQo0cP2NnZoX///liwYAG8vLyqHTN79my9EVwFBQXw8fGp78ts0QJ1nYrZckNERKTVoHBz7tw5DBs2DFevXkWnTp0gCALS0tLg4+ODLVu2oGPHjvc8h7W1NUJDQ5GYmIjRo0frticmJmLkyJE1HlNSUgJLS/2StWFKEIQaj1EoFFAoFPV9aUbFX7vGFFtuiIiIdBrU52bKlCno2LEjLl++jOPHjyMpKQkZGRnw8/PDlClT6n2e2NhYfPXVV/j666+RmpqKadOmISMjAxMnTgQgtrrExMTo9o+KisLGjRuRkJCACxcu4MCBA5gyZQoeeOABeHt7N+SlGDVty81FjpgiIiLSaVDLzZ49e/DHH3/A1dVVt83NzQ0ffPABIiIi6n2esWPH4vr165g/fz6ysrLQrVs3bN26Fe3btwcAZGVl6c15M2HCBBQWFmLZsmV444034OzsjEcffRQffvhhQ16G0fNyUsJeYYkiVQXSrxfr5r4hIiIyZzKhtvs5dXB1dcUvv/yC8PBwve0HDhxAVFQUbty40WQFNrWCggI4OTkhPz8fjo6OUpfTaKM+P4Dky7fw+bheGN6jep8jIiIiU3A/798Nui01YsQIvPzyy/jzzz8hCAIEQcAff/yBiRMn4vHHH29Q0dQwAdp+N+xUTEREBKCB4ebTTz9Fx44d0bdvXyiVSiiVSoSHh8Pf3x9Lly5t4hKpLroRU+xUTEREBKCBfW6cnZ3x888/49y5c0hNTYUgCOjSpQv8/f2buj66hwBO5EdERKSn3uHmXqt97969W/fxxx9/3OCC6P4EVBkxVa7WwEreoMY4IiIik1HvcJOUlFSv/WqbXZgMw9tJCTtrOYrL1LiUxxFTRERE9Q43u3btMmQd1EDiGlMOOHH5Fs7mFjHcEBGR2eM9DBMQ6MF+N0RERFoMNyZA26n4bC5HTBERETHcmIAA3XBwttwQEREx3JgA7UR+2hFTRERE5ozhxgS0cbaBnbUc5WoB6deLpS6HiIhIUgw3JkAmk8FfuwwDZyomIiIzx3BjIrT9btIYboiIyMwx3JgILqBJREQkYrgxEVxAk4iISMRwYyK0fW4u5BWhgiOmiIjIjDHcmIg2zjawrRwxdel6idTlEBERSYbhxkRYWNwZMXWO/W6IiMiMMdyYkAAPjpgiIiJiuDEhXGOKiIiI4cakBGrDDdeYIiIiM8ZwY0K0t6UuXCvmiCkiIjJbDDcmpI2zDWys5ChTa5B+gyOmiIjIPDHcmJCqI6Y4mR8REZkrhhsTE8B+N0REZOYYbkyMtt8NR0wREZG5YrgxMdoRU2lsuSEiIjPFcGNitAtocsQUERGZK4YbE1N1xFQGR0wREZEZYrgxMVVHTHEZBiIiMkcMNyYogAtoEhGRGZM83MTHx8PPzw9KpRKhoaHYt29fnfurVCrMnTsX7du3h0KhQMeOHfH11183U7XGIcCTC2gSEZH5spTy4uvWrcPUqVMRHx+PiIgIrFixApGRkUhJSUG7du1qPCY6Oho5OTlYuXIl/P39kZubi4qKimauvGXTttxwODgREZkjmSAIglQX79OnD3r16oWEhATdtqCgIIwaNQpxcXHV9v/tt9/w9NNP48KFC3B1dW3QNQsKCuDk5IT8/Hw4Ojo2uPaWLON6CR76aBesLS2QOv8xyC1kUpdERETUKPfz/i3ZbamysjIcO3YMQ4YM0ds+ZMgQHDx4sMZjNm/ejLCwMCxatAht2rRBYGAgpk+fjtu3b9d6HZVKhYKCAr2HqWvrYgOllQXKKjhiioiIzI9k4SYvLw9qtRqenp562z09PZGdnV3jMRcuXMD+/fvx119/4aeffsLSpUuxfv16TJo0qdbrxMXFwcnJSffw8fFp0tfREumPmGKnYiIiMi+SdyiWyfRvmQiCUG2blkajgUwmw3fffYcHHngAw4YNw8cff4zVq1fX2noze/Zs5Ofn6x6XL19u8tfQEmmXYTjHfjdERGRmJOtQ7O7uDrlcXq2VJjc3t1prjpaXlxfatGkDJycn3bagoCAIgoArV64gICCg2jEKhQIKhaJpizcCAVyGgYiIzJRkLTfW1tYIDQ1FYmKi3vbExESEh4fXeExERAQyMzNRVHSnNSItLQ0WFhZo27atQes1NroFNDkcnIiIzIykt6ViY2Px1Vdf4euvv0ZqaiqmTZuGjIwMTJw4EYB4SykmJka3/7hx4+Dm5obnn38eKSkp2Lt3L2bMmIEXXngBNjY2Ur2MFkm7gOb5a0VQayQbEEdERNTsJJ3nZuzYsbh+/Trmz5+PrKwsdOvWDVu3bkX79u0BAFlZWcjIyNDtb29vj8TERPzrX/9CWFgY3NzcEB0djQULFkj1Elqsti62UFhaQFWhweUbJfB1t5O6JCIiomYh6Tw3UjCHeW60hn+6D6czC/DFs6EY0rW11OUQERE1mFHMc0OGx5mKiYjIHDHcmDDtGlNnOWKKiIjMCMONCWPLDRERmSOGGxMW6HlnIj+OmCIiInPBcGPCfFzvjJi6cpNrTBERkXlguDFhcgsZOrbSzlTMW1NERGQeGG5MnHYZhrO57FRMRETmgeHGxAV6chkGIiIyLww3Ju7OiCm23BARkXlguDFxAVVGTGk4YoqIiMwAw42Ja+dqC2tLC5SWa3CZI6aIiMgMMNyYuKojptjvhoiIzAHDjRkIrBwxlcZ+N0REZAYYbsyAtlPxObbcEBGRGWC4MQPaTsVsuSEiInPAcGMGdC03HDFFRERmgOHGDFQdMXXl5m2pyyEiIjIohhszYCm3QAd3OwCczI+IiEwfw42Z0C7DwAU0iYjI1DHcmAkuw0BEROaC4cZMBHABTSIiMhMMN2YiwJMjpoiIyDww3JiJ9q62sJZb4Ha5GldvccQUERGZLoYbM2Ept0CHVhwxRUREpo/hxowEcMQUERGZAYYbM6IbMcVwQ0REJozhxoxoVwfnbSmiRtCogbJiqasgojpYSl0ANR9/D/G2lHbElIWFTOKKiFoodTlwKwO4cRG4cUH/cfMSoKkAQicAQxcC1rZSV0tEd2G4MSO+brawkstQUiaOmPJx5S9lMmMVZcCt9Orh5cYFMdhoKuo+/tgqIOMQ8ORKoHW35qmZiOqF4caMiGtM2eNMTiHO5RYx3JDpKy8VW1r0wst58b/5VwBBU/uxlkrAxQ9w7QC4+gFuHSs/7gDknQU2vQpc+xv48lFg6PtA75cAGVtDiVoCycNNfHw8PvroI2RlZaFr165YunQp+vfvf8/jDhw4gIcffhjdunVDcnKy4Qs1EQGeYrhJyynEgM4eUpdD1HhlJcDNyttH189XCTEXgYKrAOqYtNLK7k540QYX7cPBC7CopVuiczvg1YNiwDm7Hdg6HTi/E3h8GWDnZpCXSUT1J2m4WbduHaZOnYr4+HhERERgxYoViIyMREpKCtq1a1frcfn5+YiJicHAgQORk5PTjBUbP3EBzSyczeWIKTIiqsIabh9VBprCrLqPtXYA3DpUDy+uHQF7j4a3tti5A+N+AP5cDiTOA85sBZZHAKNXAB0ebtg5iahJyARBkGwu/j59+qBXr15ISEjQbQsKCsKoUaMQFxdX63FPP/00AgICIJfLsWnTpvtquSkoKICTkxPy8/Ph6OjYmPKN0q+nsvDqd8cR3NYJP0/uJ3U5RHfcvlU9uGgfxbl1H6t0EsOKawf920euHQBbN8PfLso6CWx4EchLAyAD+scCj8wG5FaGvS6RGbmf92/JWm7Kyspw7NgxzJo1S2/7kCFDcPDgwVqPW7VqFc6fP49vv/0WCxYsuOd1VCoVVCqV7nlBQUHDizYBugU0OWKKpFByo+YOvDcuACXX6z7W1r2G1pfKW0q2rs1Tf228egAv7wZ+mwUc/wbYtwS4sAcYsxJw8ZW2NiIzJFm4ycvLg1qthqenp952T09PZGdn13jM2bNnMWvWLOzbtw+WlvUrPS4uDu+++26j6zUV7auMmMrMv422LuxUTAZw+yaQ+zeQmyJ2us1NFR8leXUfZ++pH1q0H7v4ATbOzVJ6g1nbAY9/BnR8FNj8OnD1KLC8PzDiE6D7GKmrIzIrkncolt3VXCwIQrVtAKBWqzFu3Di8++67CAwMrPf5Z8+ejdjYWN3zgoIC+Pj4NLxgI2dVZcTU2ZwihhtqHFWhGGKupeqHmbr6wTh464cX7W0kFz9AYd98tRtK19FAm1Bgw0vA5T/F21XndwKRi0zj9REZAcnCjbu7O+RyebVWmtzc3GqtOQBQWFiIo0ePIikpCZMnTwYAaDQaCIIAS0tLbN++HY8++mi14xQKBRQKhWFehJHyrxwxdTaXI6aonspKgLwz1Vtj8i/XfoyTD9CqM+DRGfDoIn7cqpPYwmHqnNsBE7YCexcBez8Ckr8DMv4Qb1N5h0hdHZHJkyzcWFtbIzQ0FImJiRg9erRue2JiIkaOHFltf0dHR5w6dUpvW3x8PHbu3In169fDz8/P4DWbikAPB2xBFhfQpOoqVGKnWF1rTOXj5iXUOqTavrV+gPHoIoYYpfl12NcjtwQGzAH8HgY2/lOcX+erwcCgt4EHJ9U+zJyIGk3S21KxsbF49tlnERYWhr59++KLL75ARkYGJk6cCEC8pXT16lV88803sLCwQLdu+rOAenh4QKlUVttOdQvQrTHFcGO21OXinDBVA0xuqtixV1DXfIytW5UAEyQ+WnWWvjNvS+cbAUzcD2z+F/D3L8D2fwPndwGjl4tD0YmMmbpCnE/qVro4s/fNdPFjuTUwcplkZUkabsaOHYvr169j/vz5yMrKQrdu3bB161a0b98eAJCVlYWMjAwpSzRJ2gU0z+UU1trHiUyERi22uuSm6N9SyjsLaMprPkbpBLQK0g8wHl0A+1bNWrpJsXUFxn4rLtnw22zg/O9AQjgwajkQMEjq6ohqp9EARTliYLlZGWBuXbrzcf6Vmv8gsnGRNNxIOs+NFMx9nhsAKFdr0GXebyhXCzgw61G0cbaRuiRqLI0GyM+4q09MihhiKkprPsba/k6fmKphxsGLywgYUm4qsP5FIPe0+LzvZGDgPMCSfQNJAoIgTtGgCyx3tcDcugyoVXWfQ24t9rFzaQ84txf7nLm0B7o+0aS/S4xinhuSjpXcAn7udkjLKUJaTiHDjTERBKAgU3yDrHpL6doZoLy45mMsbYBWgfoBxiMIcGzLfh9S8AgC/vk7sP0t4MiXwKFlwKV9wJNfA+7+UldHpqg0/67ActfHZffooiCzEH9faMOLS2WA0X5s37rF/S5huDFTAR4OSMspwrmcIgzoxPv+LVKFCsj5C8hMEmfAvfa32DKjyq95fwsrwD2wMrxU6eDr4gtYyJu1dLoHKxtg+GKg4wDg50lA1glgxUPAsI+AnuPYckb3p6yk8nZRRuXto0tVPk4HSm/d+xwOXvqtLlU/dmxjdLNtM9yYqQBPe+AUkJZTKHUpBIgdfK/9DVw9LoaZzONATkrN/WJkcsDNv/rtJNcORvcLyOx1Hi4ODd/4sth68/NrYn+cEZ+IfZ+IAKCiTJx2oWpgqdoCc6/lSQBxQEBNrS7O7cVbSlZKw7+OZsRwY6YCPO4sw0DNTKMW+8JkJt0JMtmnau4bY+Mqvvl5BQOeXcUQ4+bP/hmmxNEbiPkZ2P8JsGsh8NcG4MoR8TaVT2+pq6PmoC4XbzdrA4w2vGg77RZmAoKm7nMoHPUDi14LjA+gcGie19JCMNyYKd2IqdwijpgyJEEQh1frgkySeAuipnvcCkfAu6cYZrQP5/a8RWEOLOTAQ9PFOXE2vCC+oX09VJwnp9803lY0dqUF4qii/MuVAeZyledXxBm97xVeLG30A8vdLTBKZ/6uqILhxky1d7ODpYUMRaoKZOWXwpudihtPEMRfVtoQc/U4kJUsdua7m5Wt2BrjHQJ49xL/69qhxXXKo2bm01ucE+eXaWILzs73gAu7gSe+EFt4qOXRDpXOvyKOWMy/cld4uVzz74C7yRWAU5vqt4y0H9u1Yni5Dww3ZsraUhwxdTZXHDHFcNMAhdn6QSYzqeaFIeXWQOvu+kGmVSf+NU41UzoBT64EOg4Ets4Q++IkhAMj44HOw6SuzvyUl+oHFV140T6u1j5nVFU2LmLfFicf8TaRU1v957bu/OOmCTHcmLEAT3uczS3CudwiPMIRU3Urvg5kJQFXq9xeKsysvp+FpdgvRhtivEPEUUuW1s1fMxkvmQwIGQ/49BFvU2WdANb+A+j9T2DIe+JoK2o8QRBXsNdORqcLL1WeF1+793lkcrFlzakytOjCS7vK/7bloqnNjOHGjImdirM5YupupflAZrJ+h99bNc2ULROHWmtDTJteYqdfvvFQU3H3B15MBH6fL86Hc+RLIP0AMOZrMURT3dTlYn8W3W2iu28bXal9fqiqrOwqA0vV8FLluYOXuJYYtRj8apgxrjEFoKxYnENGG2Iyk4Dr52re17XjnRDjHQK07sG/xsjwLBXA0PeBDgOATRPFmae/eAQYuhAIe4H9MErzgStHxbld9G4bXanfKCMAsPescpuordjvpepzGxf+OxsZhhszFugpDg08l2MmI6bKS4Gc03dCTGaSOLdMTb/8nNoBbaqMWvLqCdg4N3fFRHcEDAJePQj8NFGcC2dLLHB+J/D4Z+a1eGlpPpDxh9gX6dJ+8ZZdXQFGbn3n1pD2NlHVPi+ObUxujhdiuDFrvpUjpgpVFcguKIWXkwndTtFoxOBy5fCdDr+5KYCmovq+Dl5Vhl/3Eodj27k3e8lE92TvAYxfD/wRD+x4R1xlPDNJHE3l20/q6gzj9i39MJN9snqYce0g3iKu6baRXSt21DVDDDdmzNrSAr7udjiXW4S0nCLjDjcajbhUQfoB8Rdg+kHg9o3q+9m66Y9a8g4BHL2av16ihrKwAMInA74R4gKcN84D/4kC+k8HHn7T+Pt+3L4FZBwSf45rDTMdxTDn21/8d+AwebqLkf8UUGMFetrjXG4RzuYU4uHAVlKXU3/qCvGXXvoB4NIBIONg9bkkrGyBNqHiQ9tXxsmH987JNHiHAK/sBX6dCSR/B+xdBFzcAzz5ldhnxFjohZl9Yh84CPr7uPmLYaZ9P4YZqheGGzPnXzli6mxOC+9UrC4XRzCl768MM38AZXeN8rK2F4fO+vYTH149OQSbTJvCHhgVD3R8VJz47/KfQEI/IGop0O0Jqaur2e2bQHplmEnfX3eY8e0PtI9g6yrdN4YbMxeoGzHVwoaDV5SJHX+1TdOXD1cfsqlwBNr1Ff+Sa99PnPHX2JvkiRqi+xigbRiw4SVxXar1z4udjSM/BKztpK2tapi5tE9cR61amAm480eJbz/AobUkpZLp4DuBmdMtoCn1iKnyUuDqUbFVJn0/cPkIUHFbfx+ls/hXnG+E+N/W3TnLL5GWiy/w/K/A7jhg38dA0n/FFs4xXwNePZqvjpIb+reZsv9CtTDjHlj5s8wwQ4bBcGPm/NztIJdixFRZiTiS6dIBsd/MlaOAWqW/j63bnV+A7SPEmX456oGodnIrYOA8cQHOn14Brp8FvhoIDJ4P9JlomP5mJTfEDvza20y1hRltkGnfD3DwbPo6iKpguDFz1pYW8HWzxflrxThryBFTqiKxP8Cl/WKYuXq8+nos9p5VWmb6iesvsfMv0f3r8DAw8QCweTJwZivw2yzxNtXIeMC+kQMHqoaZS/vFUYrVwkynyjATwTBDkmC4IQR6OuD8tWKk5RTioaYaMVVaIDaJazsAZyYBglp/Hwdv8Zef9q85t44MM0RNxc4NeHoNcOQrYNtc4Ox2YHkEMHq52AG5vkpu3Jli4dKBe4SZyoc916ojaTHcEAI87PErgHONWYZB22lQ+0uwprkpnNrd6S/jGwG4+DHMEBmSTAY88E+x4/2GF8WJLf87Goh4HRjw75pHE+qFGW3LzF1ada5ymymCYYZaHIYbQkDlMgz3tYBm8XXxF6B2npma/ppz8bvTLO0bYVxzbxCZktbdgH/uArbNAY6tAg78H3BxHzBmJaBw0g8zuaerH98qqEorK8MMtXwMN6S3gGatI6aKcu8EmfQD4lIGd3ML0A8znGiLqOWwthXnv+n4KLD5X+JUC5/3AdRl1fdtFXRXy4wRTfBJBIYbQpURU6UVyClQobWTEijIqrKUwQEgL636ga06649mYqdBopavy+PibN0b/inO7A2IIxG1P8cMM2QCGG7MUWkBUJAJFGYCBVlQFGbiY7tjsC3Ngd1/3gdU14Di3LsOkgGeXfXnmeHikkTGyaktMOEXsQXWwYs/y2RyGG5MiUYt3j6qDC0ozBJDTJUgg8IsoKx6x+GRACAHoF1rUmYhTpKnvcXUri9g69qML4aIDMpCLv6ME5kghhtjUVZyJ6zUFloKs6sPt66N0kkciu3oBTh441CeAv+7CHQKCMBzQ8PF2U6VTgZ9SURERIbAcCM1QQBKrtcdWgoygdJb9TufzAKwb10ZWrwAxza6AKP337vWm7l2IhNrziUh9LYLnvMKbvrXSURE1EwYbgypoqyyRaVqaMmq/t+aRivUxMruHqHFWxyi2YD1lgI8KkdM5RRKu8YUERFRIzHcNJXCHHHBuqpBpiSv/sfbtaoltFTZpnA02KR3HVrZwUIGFJRWILdQBU9HpUGuQ0REZGiSh5v4+Hh89NFHyMrKQteuXbF06VL079+/xn03btyIhIQEJCcnQ6VSoWvXrnjnnXcwdOjQZq66FsdWVd8mt74rtHiJLSxVt9m3rnmm0GaksJTD180OF/LENaYYboiIyFhJGm7WrVuHqVOnIj4+HhEREVixYgUiIyORkpKCdu2qz2a7d+9eDB48GAsXLoSzszNWrVqFqKgo/PnnnwgJCZHgFVRh1wp4+M074cXRW2x9sXU1miUGAjztcSFPXGOqXwCHhhIRkXGSCYIg3Hs3w+jTpw969eqFhIQE3bagoCCMGjUKcXFx9TpH165dMXbsWMybN69e+xcUFMDJyQn5+flwdHRsUN2mavG2M1i26xz+8UA7xD3BIaJERNRy3M/7t0Uz1VRNWVkZjh07hiFDhuhtHzJkCA4ePFivc2g0GhQWFsLVlfOvNAXdMgz3s8YUERFRCyPZbam8vDyo1Wp4eupP2e/p6Yns7Ox6nWPJkiUoLi5GdHR0rfuoVCqoVCrd84KCgoYVbAYCPMQFNOtcY4qIiKiFk6zlRuvuN9D6vql+//33eOedd7Bu3Tp4eNS+Qm1cXBycnJx0Dx8fn0bXbKq0I6byb5fjWqHq3gcQERG1QJKFG3d3d8jl8mqtNLm5udVac+62bt06vPjii/jhhx8waNCgOvedPXs28vPzdY/Lly83unZTpbQSR0wBYusNERGRMZIs3FhbWyM0NBSJiYl62xMTExEeHl7rcd9//z0mTJiANWvWYPjw4fe8jkKhgKOjo96DaudfOZlfGvvdEBGRkZL0tlRsbCy++uorfP3110hNTcW0adOQkZGBiRMnAhBbXWJiYnT7f//994iJicGSJUvw4IMPIjs7G9nZ2cjPz5fqJZicQM87/W6IiIiMkaTz3IwdOxbXr1/H/PnzkZWVhW7dumHr1q1o3749ACArKwsZGRm6/VesWIGKigpMmjQJkyZN0m1/7rnnsHr16uYu3yRxxBQRERk7See5kQLnualbSmYBhn26D042VkieN5gjpohMVLlag2PpNxHc1hk21ve/Hh1RczOKeW6oZerQyg7Wcgvk3y7HhFVHkJV/W+qSiKiJnckuxKjPD+DpL/7AY/+3F0cv3ZC6JKImxXBDepRWcrw3qiusLS2wJ+0ahnyyFz8evQwza+AjMklqjYDle84j6rP9OJ0pzvmVfr0ET604hIVbU1Farpa4QqKmwXBD1Yzt3Q5bp/RDsI8zCksrMGP9Sbz4n6PIKSiVujQiaqBLecUYu+IQPvj1b5SpNRjY2QO/v/EwxoS2hSAAX+y9gBGf7cfJK7ekLpWo0djnhmpVodbgy30X8UliGsrUGjgqLfHO410xOqQN++IQGQlBEPDtnxlYuCUVt8vVsFdYYt6ILngqrK3u53hHSg5mbTyFvCIV5BYyTHqkIyY/GgBrS/79Sy3H/bx/M9zQPaXlFGL6jydw8oo45H5QkAcWju4OD0elxJURUV0yb93GmxtOYt/ZPABA3w5u+OipHmjrYltt35vFZXjr57/wy8ksAEAXL0csiQ5GkBd/T1LLwHBTB4abhqlQa7Bi7wUs3ZGGcrUAJxsrvPt4V4zs6c1WHKIWRhAEbDx+Fe/87zQKSyugsLTArMjOeK6vLyws6v55/eVkJt7a9BdulpTDSi7D1EGBeOWhDrCUsxWHpMVwUweGm8b5O7sA0388gb+uip0Rh3TxxPuju6OVg0LiyogIAPKKVJiz8RS2p+QAAHr6OGNJdDA6trKv9zlyC0sxZ+Nf2JEqniPYxxlLngrWzWBOJAWGmzow3DReuVqD5bvP49OdZ1GuFuBia4V3R3ZDVA8vtuIQSei3v7Ix96dTuF5c1uhWl5paf2YM7YQXIvzu2fpDZAgMN3VguGk6qVkFeOOHE0jJEltxIru1xnujusHdnq04RM0p/3Y53tl8Gj8lXQUAdG7tgI+je6KLd+N/x2Xl38bM9Xf67Tzg54rFY4LRzq16vx0iQ2K4qQPDTdMqV2vw+a5zWLbzHCo0AlztrPHeyG4Y3sNL6tKIzMLetGuYuf4ksgtKYSEDJj7cEa8PCoDCsulmHRYEAWsOZ+D9LakoKVPD1lqOOcOCML5PO7bWUrNhuKkDw41hnM7Mxxs/nMDf2eKaVMO7e2H+yK5wYysOkUEUqyoQ92sqvv1DXH/Pz90Oi58KRmh7F4NdM+N6CWasP4E/L4ozGvcPcMeHT/aAt7ONwa5JpMVwUweGG8Mpq9Bg2c6z+Hz3eag1AtzsrLFgVDdEdmcrDlFTOnLpBqb/eALp10sAAM/1bY83IzvD1trwayFrNAJWH7yED3/7G6oKDRwUlpgX1QVjQtuyFYcMiuGmDgw3hnfqSj6m/3gCZypXFo8K9sb8x7vCxc5a4sqIjFtpuRqfJKbhi30XIAiAt5MSHz0VjAh/92av5fy1Ikz/8QSSMm4BqJz/6onu8HDg/FdkGAw3dWC4aR6qCjU++/0cEvaIrTju9gq8P7obhnZtLXVpREbpr6v5iP0hGWk5RQCAp0Lb4q2oLnBUWklWU4Vagy/2XcDSxLMoU2vgbGuF90Z2Q1Swt2Q1keliuKkDw03zOnH5Fqb/eAJnc8VfyKN6euOdx7vC2ZatOET1Ua7WIH7XeXy28ywqKv9QiHuiOwZ38ZS6NJ2/s8WRk9rFOIf38MJ7I7vBla211IQYburAcNP8SsvV+L/fz2LFnvPQCEArBwUWjm5Zv5yJWqJzuYWI/eHO0ifDurfGglHdW2RoKFdrsGznOSzbda6ytdYaC0d3xxC21lITYbipA8ONdJIybmL6jydw/loxAOCJkDZ4O6ornGyla1Ynaok0GgFfH7iIRdvOoKxCAycbK8wf2RWPB7f85U5OXRFvn2lba5/oVflzbsOfc2ochps6MNxIS9sh8st9F6ARAE9HsYn90c5sxSECgMs3SvDGjydwuHK49cOBrbBoTA94GtFCtaXlanyyIw1f7BU7Prd2VOLDMT3wcGArqUsjI8ZwUweGm5bhWPpNzPjxBC7kia04Y0Lb4q0RXfjXHZktQRCw9shlLPglBcWVE+X9e3gX/OMBnxbfWlObY+k38MYPJ3Cpcsj6uD7tMGdYEOwVhh+yTqaH4aYODDctR2m5Gku2n8FX+y/q/rr74MnueKSTh9SlETWrnIJSvLnhJHafuQbAtJY4KCmrwKLfzmD1wUsAAB9XG3w0JhgPdnCTtjAyOgw3dWC4aXmOVk5Ipv3rbmyYD+aOCJJ0iCtRcxAEAZtPZGLez6eRf7sc1pYWmGmii1MePJeHGetP4uqt2wCA5yN8MXNoZ9hYN90yEWTaGG7qwHDTMt0uU+OjbWew6qDYiuPlpMSHT/bAQ7xHTybqRnEZ/r3pFLaeygYAdG/jhI+jgxHg6SBxZYZTWFqOhVtT8f3hywCADu52WBwdjF7tDLdkBJkOhps6MNy0bIcv3sCM9Xemlf/HAz6YMywIDmzFIROyIyUHszaeQl6RCpYWMvzr0QC8NqAjrOQWUpfWLHadycWsDSeRU6CChQx45eGOmNrEi32S6WG4qQPDTct39z36Ns42+PDJHugX0PxTzBM1pYLScsz/XwrWH7sCAAjwsMfH0T3Rva2TxJU1v/yScrzzv9P4KekqAKCTpwOWRAejWxvz+7eg+mG4qQPDjfE4dP46Zm44gcs3xHv04/u0w2yOtCAjVbXPiUwGvNy/A6YNDoTSyrxbK377KxtzfzqF68VlZtmKRfXHcFMHhhvjUqyqwIe//Y1vDqUDANq62GDRmB4I78hWHDIOt8vU+PC3v3Utke1cbbEkOhi9fV2lLawFuV6kwr83/YVf/7rT/2hJdDACTbj/Ed0/hps6MNwYp7tHWsT0bY83H+sMO7biUAt2POMm3vjhBC5Wzuc0vnKeF37fVldt5JjcAm8MCcRL/TtAbmIjx6hhGG7qwHBjvIpUFYjbmorv/swAwPkyqOVSVajxfzvOYnnlemqcobf+cgpKMXvjKez8OxcAENreBYufCoafu53ElZHUGG7qwHBj/PafzcObG+604kwI98XMxzrB1pp/DZP0UjILEPtDMv7OLgTANdQaQhAE/HjsCub/LwVFqgoorSww67HOiOnra3Lz/1D9MdzUgeHGNNw9X0Z7N1t8NCYYD/ixHwNJo0KtwYq9F7B0RxrK1QLc7Kzx/uhueKybl9SlGa0rN0vw5oaTOHDuOgCgbwc3LBrTAz6uxj9zM90/hps6MNyYlj1p1zBrw0lk5ZdCJgOeD/fDjKGdOOspNasL14rwxo8nkJRxCwAwpIsnFj7RHe72CmkLMwEajYDv/kzHwq1/43a5GnbWcrw1ogvG9jbeNbeoYe7n/VvysXbx8fHw8/ODUqlEaGgo9u3bV+f+e/bsQWhoKJRKJTp06IDly5c3U6XUEj0c2Arbpj2E6LC2EATg6wMXMezTfTiWfkPq0sgMaDQCVld+zyVl3IKD0hIfRwdjxbOhDDZNxMJChmf7+uLX1/sjrL0LisvUmLXxFJ5ffQTZ+aVSl0ctlKThZt26dZg6dSrmzp2LpKQk9O/fH5GRkcjIyKhx/4sXL2LYsGHo378/kpKSMGfOHEyZMgUbNmxo5sqpJXFUWmHRmGCser43PB0VuJhXjDHLD+H9LSkoLVdLXR6ZqCs3S/DMyj/xzv9SUFquQf8Ad2yb+hCe6NWWLQoG4Otuh3Wv9MXcYUGwtrTA7jPXMOSTPfgp6QrM7AYE1YOkt6X69OmDXr16ISEhQbctKCgIo0aNQlxcXLX933zzTWzevBmpqam6bRMnTsSJEydw6NChel2Tt6VMW/7tcrz3y50ZYB2UlrBXWMJCJoOFBSCXyWBhIYOFTFblY0BeuU3/Y5n4sXafGveXVT+22v417KM7FveoR9xHJpNBhqr/FV+vTAbIIKvyXPz83Z+regz0tt21f+Uxlf/TO2e1a1X+X9Vr6PbXu6b+Mdo3/qrXrVJZtW332ufOuWXV9q/pGrj7+Cp16+9R/dza54fOX8f8X8TOrjZWcswZ1hnPPNieoaaZnMstROwPJ3DySj4AYGhXT0R286r2c1Dzz0D17/+avvdrO8fd3/O1fb/Xdg7cfc5af06rqr6x2s9ITUfVcLK7t9R0Pdlde9X327rqfnILGbycbOp3YD3dz/u3ZMNLysrKcOzYMcyaNUtv+5AhQ3Dw4MEajzl06BCGDBmit23o0KFYuXIlysvLYWVVfTSCSqWCSqXSPS8oKGiC6qmlcrKxwuKngjGse2vM2nAKuYUqFJZWSF0WmajQ9i5Y8lQwfDlMuVn5ezhg46vhSNh9Hp/uPIttp3Ow7XSO1GVRFR4OChyeO0iy60sWbvLy8qBWq+Hp6am33dPTE9nZ2TUek52dXeP+FRUVyMvLg5dX9VEJcXFxePfdd5uucDIKj3b2xN6Z7jh/rQiCAKg1AtSCAEEQoNaIzzWC+NB9rAHUggCNRoBGqPpxlX2EKsdqBKgF3Nmn6rF650eV/Ws7P6rVo67cT7uPAEAQAG1Tq7bRVdwmiP+t/KTuufgEAqruKx6rPV/lLoDeNarsX+UY6K6tfw3t+aC7Xk3XEO58XEN7se71oPo+VeupbR/Uuo9w1x5V9qnhc6jH8TZWcvzzoQ74JyeYk4yl3AL/GhiAgUGe+Hz3OeSXlOv9HNT0M1DT939N3/s1fd/X+j1f4zmrnKOm7dB+D9byM1RFXT8r1bbXc2PN16m+td711LCnwkraLr2STwxyd7OZIAh1Nu3WtH9N27Vmz56N2NhY3fOCggL4+Pg0tFwyIkorObp6cxE+IlPWxdsRn4/rJXUZ1MJIFm7c3d0hl8urtdLk5uZWa53Rat26dY37W1paws2t5llqFQoFFAqOWiAiIjIXkrUbWVtbIzQ0FImJiXrbExMTER4eXuMxffv2rbb/9u3bERYWVmN/GyIiIjI/kt4Ui42NxVdffYWvv/4aqampmDZtGjIyMjBx4kQA4i2lmJgY3f4TJ05Eeno6YmNjkZqaiq+//horV67E9OnTpXoJRERE1MJI2udm7NixuH79OubPn4+srCx069YNW7duRfv27QEAWVlZenPe+Pn5YevWrZg2bRo+//xzeHt749NPP8WTTz4p1UsgIiKiFobLLxAREVGLZ1TLLxARERE1JYYbIiIiMikMN0RERGRSGG6IiIjIpDDcEBERkUlhuCEiIiKTwnBDREREJoXhhoiIiEwKww0RERGZFEmXX5CCdkLmgoICiSshIiKi+tK+b9dnYQWzCzeFhYUAAB8fH4krISIiovtVWFgIJyenOvcxu7WlNBoNMjMz4eDgAJlM1qTnLigogI+PDy5fvsx1q1oAfj1aFn49Wh5+TVoWfj3qJggCCgsL4e3tDQuLunvVmF3LjYWFBdq2bWvQazg6OvIbswXh16Nl4dej5eHXpGXh16N292qx0WKHYiIiIjIpDDdERERkUhhumpBCocDbb78NhUIhdSkEfj1aGn49Wh5+TVoWfj2ajtl1KCYiIiLTxpYbIiIiMikMN0RERGRSGG6IiIjIpDDcEBERkUlhuGki8fHx8PPzg1KpRGhoKPbt2yd1SWYrLi4OvXv3hoODAzw8PDBq1CicOXNG6rKoUlxcHGQyGaZOnSp1KWbr6tWreOaZZ+Dm5gZbW1v07NkTx44dk7oss1RRUYF///vf8PPzg42NDTp06ID58+dDo9FIXZpRY7hpAuvWrcPUqVMxd+5cJCUloX///oiMjERGRobUpZmlPXv2YNKkSfjjjz+QmJiIiooKDBkyBMXFxVKXZvaOHDmCL774Aj169JC6FLN18+ZNREREwMrKCr/++itSUlKwZMkSODs7S12aWfrwww+xfPlyLFu2DKmpqVi0aBE++ugjfPbZZ1KXZtQ4FLwJ9OnTB7169UJCQoJuW1BQEEaNGoW4uDgJKyMAuHbtGjw8PLBnzx489NBDUpdjtoqKitCrVy/Ex8djwYIF6NmzJ5YuXSp1WWZn1qxZOHDgAFuXW4gRI0bA09MTK1eu1G178sknYWtri//+978SVmbc2HLTSGVlZTh27BiGDBmit33IkCE4ePCgRFVRVfn5+QAAV1dXiSsxb5MmTcLw4cMxaNAgqUsxa5s3b0ZYWBieeuopeHh4ICQkBF9++aXUZZmtfv364ffff0daWhoA4MSJE9i/fz+GDRsmcWXGzewWzmxqeXl5UKvV8PT01Nvu6emJ7OxsiaoiLUEQEBsbi379+qFbt25Sl2O21q5di+PHj+PIkSNSl2L2Lly4gISEBMTGxmLOnDk4fPgwpkyZAoVCgZiYGKnLMztvvvkm8vPz0blzZ8jlcqjVarz//vv4xz/+IXVpRo3hponIZDK954IgVNtGzW/y5Mk4efIk9u/fL3UpZuvy5ct4/fXXsX37diiVSqnLMXsajQZhYWFYuHAhACAkJASnT59GQkICw40E1q1bh2+//RZr1qxB165dkZycjKlTp8Lb2xvPPfec1OUZLYabRnJ3d4dcLq/WSpObm1utNYea17/+9S9s3rwZe/fuRdu2baUux2wdO3YMubm5CA0N1W1Tq9XYu3cvli1bBpVKBblcLmGF5sXLywtdunTR2xYUFIQNGzZIVJF5mzFjBmbNmoWnn34aANC9e3ekp6cjLi6O4aYR2OemkaytrREaGorExES97YmJiQgPD5eoKvMmCAImT56MjRs3YufOnfDz85O6JLM2cOBAnDp1CsnJybpHWFgYxo8fj+TkZAabZhYREVFtaoS0tDS0b99eoorMW0lJCSws9N+K5XI5h4I3EltumkBsbCyeffZZhIWFoW/fvvjiiy+QkZGBiRMnSl2aWZo0aRLWrFmDn3/+GQ4ODrpWNScnJ9jY2EhcnflxcHCo1t/Jzs4Obm5u7AclgWnTpiE8PBwLFy5EdHQ0Dh8+jC+++AJffPGF1KWZpaioKLz//vto164dunbtiqSkJHz88cd44YUXpC7NuAnUJD7//HOhffv2grW1tdCrVy9hz549UpdktgDU+Fi1apXUpVGlhx9+WHj99delLsNs/e9//xO6desmKBQKoXPnzsIXX3whdUlmq6CgQHj99deFdu3aCUqlUujQoYMwd+5cQaVSSV2aUeM8N0RERGRS2OeGiIiITArDDREREZkUhhsiIiIyKQw3REREZFIYboiIiMikMNwQERGRSWG4ISIiIpPCcENEZm/37t2QyWS4deuW1KUQURNguCEiIiKTwnBDREREJoXhhogkJwgCFi1ahA4dOsDGxgbBwcFYv349gDu3jLZs2YLg4GAolUr06dMHp06d0jvHhg0b0LVrVygUCvj6+mLJkiV6n1epVJg5cyZ8fHygUCgQEBCAlStX6u1z7NgxhIWFwdbWFuHh4dVWzyYi48BwQ0SS+/e//41Vq1YhISEBp0+fxrRp0/DMM89gz549un1mzJiBxYsX48iRI/Dw8MDjjz+O8vJyAGIoiY6OxtNPP41Tp07hnXfewVtvvYXVq1frjo+JicHatWvx6aefIjU1FcuXL4e9vb1eHXPnzsWSJUtw9OhRWFpacmVmIiPFhTOJSFLFxcVwd3fHzp070bdvX932l156CSUlJXj55ZcxYMAArF27FmPHjgUA3LhxA23btsXq1asRHR2N8ePH49q1a9i+fbvu+JkzZ2LLli04ffo00tLS0KlTJyQmJmLQoEHVati9ezcGDBiAHTt2YODAgQCArVu3Yvjw4bh9+zaUSqWB/xWIqCmx5YaIJJWSkoLS0lIMHjwY9vb2usc333yD8+fP6/arGnxcXV3RqVMnpKamAgBSU1MRERGhd96IiAicPXsWarUaycnJkMvlePjhh+uspUePHrqPvby8AAC5ubmNfo1E1LwspS6AiMybRqMBAGzZsgVt2rTR+5xCodALOHeTyWQAxD472o+1qjZK29jY1KsWKyuraufW1kdExoMtN0QkqS5dukChUCAjIwP+/v56Dx8fH91+f/zxh+7jmzdvIi0tDZ07d9adY//+/XrnPXjwIAIDAyGXy9G9e3doNBq9PjxEZLrYckNEknJwcMD06dMxbdo0aDQa9OvXDwUFBTh48CDs7e3Rvn17AMD8+fPh5uYGT09PzJ07F+7u7hg1ahQA4I033kDv3r3x3nvvYezYsTh06BCWLVuG+Ph4AICvry+ee+45vPDCC/j0008RHByM9PR05ObmIjo6WqqXTkQGwnBDRJJ777334OHhgbi4OFy4cAHOzs7o1asX5syZo7st9MEHH+D111/H2bNnERwcjM2bN8Pa2hoA0KtXL/zwww+YN28e3nvvPXh5eWH+/PmYMGGC7hoJCQmYM2cOXnvtNVy/fh3t2rXDnDlzpHi5RGRgHC1FRC2adiTTzZs34ezsLHU5RGQE2OeGiIiITArDDREREZkU3pYiIiIik8KWGyIiIjIpDDdERERkUhhuiIiIyKQw3BAREZFJYbghIiIik8JwQ0RERCaF4YaIiIhMCsMNERERmRSGGyIiIjIp/w9MhO/By5grjQAAAABJRU5ErkJggg==",
=======
      "image/png": "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",
>>>>>>> ea985da39bb5fcfca61ed7342dc16dda6cb3501f
      "text/plain": [
       "<Figure size 640x480 with 1 Axes>"
      ]
     },
     "metadata": {},
     "output_type": "display_data"
    }
   ],
   "source": [
    "plt.plot(history_conv.history['loss'])\n",
    "plt.plot(history_conv.history['val_loss'])\n",
    "plt.title('model loss')\n",
    "plt.ylabel('loss')\n",
    "plt.xlabel('epoch')\n",
    "plt.legend(['train loss', 'val loss'], loc='upper left')\n",
    "plt.show()"
   ]
  },
  {
   "cell_type": "code",
<<<<<<< HEAD
   "execution_count": 78,
=======
   "execution_count": 99,
>>>>>>> ea985da39bb5fcfca61ed7342dc16dda6cb3501f
   "metadata": {},
   "outputs": [
    {
     "data": {
<<<<<<< HEAD
      "image/png": "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",
=======
      "image/png": "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",
>>>>>>> ea985da39bb5fcfca61ed7342dc16dda6cb3501f
      "text/plain": [
       "<Figure size 640x480 with 1 Axes>"
      ]
     },
     "metadata": {},
     "output_type": "display_data"
    }
   ],
   "source": [
    "plt.plot(history_conv.history['acc'])\n",
    "plt.plot(history_conv.history['val_acc'])\n",
    "plt.title('model accuracy')\n",
    "plt.ylabel('accuracy (%)')\n",
    "plt.xlabel('epoch')\n",
    "plt.legend(['train accuracy', 'val accuracy'], loc='upper left')\n",
    "plt.show()"
   ]
  },
  {
   "cell_type": "code",
<<<<<<< HEAD
   "execution_count": 79,
=======
   "execution_count": 100,
>>>>>>> ea985da39bb5fcfca61ed7342dc16dda6cb3501f
   "metadata": {},
   "outputs": [],
   "source": [
    "from sklearn.metrics import confusion_matrix"
   ]
  },
  {
   "cell_type": "code",
<<<<<<< HEAD
   "execution_count": 80,
=======
   "execution_count": 136,
>>>>>>> ea985da39bb5fcfca61ed7342dc16dda6cb3501f
   "metadata": {},
   "outputs": [
    {
     "name": "stdout",
     "output_type": "stream",
     "text": [
<<<<<<< HEAD
      "9/9 [==============================] - 0s 1ms/step\n"
=======
      "9/9 [==============================] - 0s 6ms/step\n"
>>>>>>> ea985da39bb5fcfca61ed7342dc16dda6cb3501f
     ]
    },
    {
     "ename": "ValueError",
<<<<<<< HEAD
     "evalue": "Shape of passed values is (9, 9), indices imply (36, 36)",
=======
     "evalue": "Shape of passed values is (12, 12), indices imply (36, 36)",
>>>>>>> ea985da39bb5fcfca61ed7342dc16dda6cb3501f
     "output_type": "error",
     "traceback": [
      "\u001b[0;31m---------------------------------------------------------------------------\u001b[0m",
      "\u001b[0;31mValueError\u001b[0m                                Traceback (most recent call last)",
<<<<<<< HEAD
      "Cell \u001b[0;32mIn [80], line 8\u001b[0m\n\u001b[1;32m      4\u001b[0m corr_results \u001b[39m=\u001b[39m [np\u001b[39m.\u001b[39margmax(Y_val) \u001b[39mfor\u001b[39;00m Y_val \u001b[39min\u001b[39;00m y_dataset]\n\u001b[1;32m      6\u001b[0m conf_matrix \u001b[39m=\u001b[39m confusion_matrix(corr_results, pred_results)\n\u001b[0;32m----> 8\u001b[0m df_cm \u001b[39m=\u001b[39m pd\u001b[39m.\u001b[39;49mDataFrame(conf_matrix, index \u001b[39m=\u001b[39;49m [i \u001b[39mfor\u001b[39;49;00m i \u001b[39min\u001b[39;49;00m one_hot_ref],\n\u001b[1;32m      9\u001b[0m                   columns \u001b[39m=\u001b[39;49m [i \u001b[39mfor\u001b[39;49;00m i \u001b[39min\u001b[39;49;00m one_hot_ref])\n\u001b[1;32m     10\u001b[0m plt\u001b[39m.\u001b[39mfigure(figsize \u001b[39m=\u001b[39m (\u001b[39m15\u001b[39m,\u001b[39m8\u001b[39m))\n\u001b[1;32m     11\u001b[0m sn\u001b[39m.\u001b[39mheatmap(df_cm, annot\u001b[39m=\u001b[39m\u001b[39mTrue\u001b[39;00m)\n",
      "File \u001b[0;32m~/miniconda3/envs/tf/lib/python3.9/site-packages/pandas/core/frame.py:720\u001b[0m, in \u001b[0;36mDataFrame.__init__\u001b[0;34m(self, data, index, columns, dtype, copy)\u001b[0m\n\u001b[1;32m    710\u001b[0m         mgr \u001b[39m=\u001b[39m dict_to_mgr(\n\u001b[1;32m    711\u001b[0m             \u001b[39m# error: Item \"ndarray\" of \"Union[ndarray, Series, Index]\" has no\u001b[39;00m\n\u001b[1;32m    712\u001b[0m             \u001b[39m# attribute \"name\"\u001b[39;00m\n\u001b[0;32m   (...)\u001b[0m\n\u001b[1;32m    717\u001b[0m             typ\u001b[39m=\u001b[39mmanager,\n\u001b[1;32m    718\u001b[0m         )\n\u001b[1;32m    719\u001b[0m     \u001b[39melse\u001b[39;00m:\n\u001b[0;32m--> 720\u001b[0m         mgr \u001b[39m=\u001b[39m ndarray_to_mgr(\n\u001b[1;32m    721\u001b[0m             data,\n\u001b[1;32m    722\u001b[0m             index,\n\u001b[1;32m    723\u001b[0m             columns,\n\u001b[1;32m    724\u001b[0m             dtype\u001b[39m=\u001b[39;49mdtype,\n\u001b[1;32m    725\u001b[0m             copy\u001b[39m=\u001b[39;49mcopy,\n\u001b[1;32m    726\u001b[0m             typ\u001b[39m=\u001b[39;49mmanager,\n\u001b[1;32m    727\u001b[0m         )\n\u001b[1;32m    729\u001b[0m \u001b[39m# For data is list-like, or Iterable (will consume into list)\u001b[39;00m\n\u001b[1;32m    730\u001b[0m \u001b[39melif\u001b[39;00m is_list_like(data):\n",
      "File \u001b[0;32m~/miniconda3/envs/tf/lib/python3.9/site-packages/pandas/core/internals/construction.py:349\u001b[0m, in \u001b[0;36mndarray_to_mgr\u001b[0;34m(values, index, columns, dtype, copy, typ)\u001b[0m\n\u001b[1;32m    344\u001b[0m \u001b[39m# _prep_ndarraylike ensures that values.ndim == 2 at this point\u001b[39;00m\n\u001b[1;32m    345\u001b[0m index, columns \u001b[39m=\u001b[39m _get_axes(\n\u001b[1;32m    346\u001b[0m     values\u001b[39m.\u001b[39mshape[\u001b[39m0\u001b[39m], values\u001b[39m.\u001b[39mshape[\u001b[39m1\u001b[39m], index\u001b[39m=\u001b[39mindex, columns\u001b[39m=\u001b[39mcolumns\n\u001b[1;32m    347\u001b[0m )\n\u001b[0;32m--> 349\u001b[0m _check_values_indices_shape_match(values, index, columns)\n\u001b[1;32m    351\u001b[0m \u001b[39mif\u001b[39;00m typ \u001b[39m==\u001b[39m \u001b[39m\"\u001b[39m\u001b[39marray\u001b[39m\u001b[39m\"\u001b[39m:\n\u001b[1;32m    353\u001b[0m     \u001b[39mif\u001b[39;00m \u001b[39missubclass\u001b[39m(values\u001b[39m.\u001b[39mdtype\u001b[39m.\u001b[39mtype, \u001b[39mstr\u001b[39m):\n",
      "File \u001b[0;32m~/miniconda3/envs/tf/lib/python3.9/site-packages/pandas/core/internals/construction.py:420\u001b[0m, in \u001b[0;36m_check_values_indices_shape_match\u001b[0;34m(values, index, columns)\u001b[0m\n\u001b[1;32m    418\u001b[0m passed \u001b[39m=\u001b[39m values\u001b[39m.\u001b[39mshape\n\u001b[1;32m    419\u001b[0m implied \u001b[39m=\u001b[39m (\u001b[39mlen\u001b[39m(index), \u001b[39mlen\u001b[39m(columns))\n\u001b[0;32m--> 420\u001b[0m \u001b[39mraise\u001b[39;00m \u001b[39mValueError\u001b[39;00m(\u001b[39mf\u001b[39m\u001b[39m\"\u001b[39m\u001b[39mShape of passed values is \u001b[39m\u001b[39m{\u001b[39;00mpassed\u001b[39m}\u001b[39;00m\u001b[39m, indices imply \u001b[39m\u001b[39m{\u001b[39;00mimplied\u001b[39m}\u001b[39;00m\u001b[39m\"\u001b[39m)\n",
      "\u001b[0;31mValueError\u001b[0m: Shape of passed values is (9, 9), indices imply (36, 36)"
=======
      "Cell \u001b[0;32mIn [136], line 8\u001b[0m\n\u001b[1;32m      4\u001b[0m corr_results \u001b[39m=\u001b[39m [np\u001b[39m.\u001b[39margmax(Y_val) \u001b[39mfor\u001b[39;00m Y_val \u001b[39min\u001b[39;00m y_dataset]\n\u001b[1;32m      6\u001b[0m conf_matrix \u001b[39m=\u001b[39m confusion_matrix(corr_results, pred_results)\n\u001b[0;32m----> 8\u001b[0m df_cm \u001b[39m=\u001b[39m pd\u001b[39m.\u001b[39;49mDataFrame(conf_matrix, index \u001b[39m=\u001b[39;49m [i \u001b[39mfor\u001b[39;49;00m i \u001b[39min\u001b[39;49;00m one_hot_ref],\n\u001b[1;32m      9\u001b[0m                   columns \u001b[39m=\u001b[39;49m [i \u001b[39mfor\u001b[39;49;00m i \u001b[39min\u001b[39;49;00m one_hot_ref])\n\u001b[1;32m     10\u001b[0m plt\u001b[39m.\u001b[39mfigure(figsize \u001b[39m=\u001b[39m (\u001b[39m15\u001b[39m,\u001b[39m8\u001b[39m))\n\u001b[1;32m     11\u001b[0m sn\u001b[39m.\u001b[39mheatmap(df_cm, annot\u001b[39m=\u001b[39m\u001b[39mTrue\u001b[39;00m)\n",
      "File \u001b[0;32m~/miniconda3/envs/tf/lib/python3.9/site-packages/pandas/core/frame.py:720\u001b[0m, in \u001b[0;36mDataFrame.__init__\u001b[0;34m(self, data, index, columns, dtype, copy)\u001b[0m\n\u001b[1;32m    710\u001b[0m         mgr \u001b[39m=\u001b[39m dict_to_mgr(\n\u001b[1;32m    711\u001b[0m             \u001b[39m# error: Item \"ndarray\" of \"Union[ndarray, Series, Index]\" has no\u001b[39;00m\n\u001b[1;32m    712\u001b[0m             \u001b[39m# attribute \"name\"\u001b[39;00m\n\u001b[0;32m   (...)\u001b[0m\n\u001b[1;32m    717\u001b[0m             typ\u001b[39m=\u001b[39mmanager,\n\u001b[1;32m    718\u001b[0m         )\n\u001b[1;32m    719\u001b[0m     \u001b[39melse\u001b[39;00m:\n\u001b[0;32m--> 720\u001b[0m         mgr \u001b[39m=\u001b[39m ndarray_to_mgr(\n\u001b[1;32m    721\u001b[0m             data,\n\u001b[1;32m    722\u001b[0m             index,\n\u001b[1;32m    723\u001b[0m             columns,\n\u001b[1;32m    724\u001b[0m             dtype\u001b[39m=\u001b[39;49mdtype,\n\u001b[1;32m    725\u001b[0m             copy\u001b[39m=\u001b[39;49mcopy,\n\u001b[1;32m    726\u001b[0m             typ\u001b[39m=\u001b[39;49mmanager,\n\u001b[1;32m    727\u001b[0m         )\n\u001b[1;32m    729\u001b[0m \u001b[39m# For data is list-like, or Iterable (will consume into list)\u001b[39;00m\n\u001b[1;32m    730\u001b[0m \u001b[39melif\u001b[39;00m is_list_like(data):\n",
      "File \u001b[0;32m~/miniconda3/envs/tf/lib/python3.9/site-packages/pandas/core/internals/construction.py:349\u001b[0m, in \u001b[0;36mndarray_to_mgr\u001b[0;34m(values, index, columns, dtype, copy, typ)\u001b[0m\n\u001b[1;32m    344\u001b[0m \u001b[39m# _prep_ndarraylike ensures that values.ndim == 2 at this point\u001b[39;00m\n\u001b[1;32m    345\u001b[0m index, columns \u001b[39m=\u001b[39m _get_axes(\n\u001b[1;32m    346\u001b[0m     values\u001b[39m.\u001b[39mshape[\u001b[39m0\u001b[39m], values\u001b[39m.\u001b[39mshape[\u001b[39m1\u001b[39m], index\u001b[39m=\u001b[39mindex, columns\u001b[39m=\u001b[39mcolumns\n\u001b[1;32m    347\u001b[0m )\n\u001b[0;32m--> 349\u001b[0m _check_values_indices_shape_match(values, index, columns)\n\u001b[1;32m    351\u001b[0m \u001b[39mif\u001b[39;00m typ \u001b[39m==\u001b[39m \u001b[39m\"\u001b[39m\u001b[39marray\u001b[39m\u001b[39m\"\u001b[39m:\n\u001b[1;32m    353\u001b[0m     \u001b[39mif\u001b[39;00m \u001b[39missubclass\u001b[39m(values\u001b[39m.\u001b[39mdtype\u001b[39m.\u001b[39mtype, \u001b[39mstr\u001b[39m):\n",
      "File \u001b[0;32m~/miniconda3/envs/tf/lib/python3.9/site-packages/pandas/core/internals/construction.py:420\u001b[0m, in \u001b[0;36m_check_values_indices_shape_match\u001b[0;34m(values, index, columns)\u001b[0m\n\u001b[1;32m    418\u001b[0m passed \u001b[39m=\u001b[39m values\u001b[39m.\u001b[39mshape\n\u001b[1;32m    419\u001b[0m implied \u001b[39m=\u001b[39m (\u001b[39mlen\u001b[39m(index), \u001b[39mlen\u001b[39m(columns))\n\u001b[0;32m--> 420\u001b[0m \u001b[39mraise\u001b[39;00m \u001b[39mValueError\u001b[39;00m(\u001b[39mf\u001b[39m\u001b[39m\"\u001b[39m\u001b[39mShape of passed values is \u001b[39m\u001b[39m{\u001b[39;00mpassed\u001b[39m}\u001b[39;00m\u001b[39m, indices imply \u001b[39m\u001b[39m{\u001b[39;00mimplied\u001b[39m}\u001b[39;00m\u001b[39m\"\u001b[39m)\n",
      "\u001b[0;31mValueError\u001b[0m: Shape of passed values is (12, 12), indices imply (36, 36)"
>>>>>>> ea985da39bb5fcfca61ed7342dc16dda6cb3501f
     ]
    }
   ],
   "source": [
    "pred_matrix = conv_model.predict(x_dataset)\n",
    "\n",
    "pred_results = [np.argmax(pred) for pred in pred_matrix]\n",
    "corr_results = [np.argmax(Y_val) for Y_val in y_dataset]\n",
    "\n",
    "conf_matrix = confusion_matrix(corr_results, pred_results)\n",
    "\n",
    "df_cm = pd.DataFrame(conf_matrix, index = [i for i in one_hot_ref],\n",
    "                  columns = [i for i in one_hot_ref])\n",
    "plt.figure(figsize = (15,8))\n",
    "sn.heatmap(df_cm, annot=True)"
   ]
  },
  {
   "cell_type": "code",
<<<<<<< HEAD
   "execution_count": null,
=======
   "execution_count": 148,
>>>>>>> ea985da39bb5fcfca61ed7342dc16dda6cb3501f
   "metadata": {},
   "outputs": [
    {
     "name": "stdout",
     "output_type": "stream",
     "text": [
<<<<<<< HEAD
      "35/35 [==============================] - 0s 1ms/step\n"
=======
      "9/9 [==============================] - 0s 1ms/step\n"
>>>>>>> ea985da39bb5fcfca61ed7342dc16dda6cb3501f
     ]
    }
   ],
   "source": [
    "pred_matrix = conv_model.predict(x_dataset)\n",
    "pred_results = [np.argmax(pred) for pred in pred_matrix]\n",
    "corr_results = [np.argmax(Y_val) for Y_val in y_dataset]"
   ]
  },
  {
   "cell_type": "code",
   "execution_count": null,
   "metadata": {},
<<<<<<< HEAD
   "outputs": [
    {
     "name": "stdout",
     "output_type": "stream",
     "text": [
      "35/35 [==============================] - 0s 1ms/step\n",
      "[5.1432079e-21 2.1208761e-26 2.5950668e-17 2.2889838e-26 6.2554613e-21\n",
      " 3.7961851e-21 1.3952884e-19 1.1685697e-23 1.8904996e-22 5.2487210e-25\n",
      " 6.9459746e-18 5.6754574e-18 8.1698799e-19 7.8372120e-16 2.2462316e-22\n",
      " 3.4031993e-23 1.1156070e-21 1.8785873e-22 2.3737680e-16 1.6713504e-26\n",
      " 6.0729007e-16 1.1533691e-18 1.8013260e-24 1.0000000e+00 2.5093962e-11\n",
      " 4.2130148e-16 1.0010041e-22 1.7637690e-12 4.8227003e-22 4.4362456e-20\n",
      " 6.5635662e-16 2.2877249e-20 1.3387562e-14 1.7526135e-14 4.5718736e-17\n",
      " 5.3969282e-21]\n"
     ]
    }
   ],
   "source": [
    "print(conv_model.predict(x_dataset)[0])"
   ]
  },
  {
   "cell_type": "code",
   "execution_count": null,
   "metadata": {},
=======
>>>>>>> ea985da39bb5fcfca61ed7342dc16dda6cb3501f
   "outputs": [],
   "source": []
  }
 ],
 "metadata": {
  "kernelspec": {
   "display_name": "Python 3.9.15 ('tf')",
   "language": "python",
   "name": "python3"
  },
  "language_info": {
   "codemirror_mode": {
    "name": "ipython",
    "version": 3
   },
   "file_extension": ".py",
   "mimetype": "text/x-python",
   "name": "python",
   "nbconvert_exporter": "python",
   "pygments_lexer": "ipython3",
   "version": "3.9.15"
  },
  "orig_nbformat": 4,
  "vscode": {
   "interpreter": {
    "hash": "578e924f1569627a7b9460d9a60221db2eceef51bb5e555905b8909493232376"
   }
  }
 },
 "nbformat": 4,
 "nbformat_minor": 2
}
